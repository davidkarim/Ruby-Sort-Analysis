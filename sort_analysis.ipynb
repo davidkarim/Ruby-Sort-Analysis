{
 "cells": [
  {
   "cell_type": "markdown",
   "metadata": {},
   "source": [
    "# Analysis of Various Sorting Algorithms in Ruby"
   ]
  },
  {
   "cell_type": "markdown",
   "metadata": {},
   "source": [
    "This exercise is meant to show the coding of three sorting algorithms in Ruby and how they compare, performance-wise, to each other. The last sort performed is using the Linux command. Although still being run in Ruby, the Linux sort command is implemented via a C algorithm, making it superior to the first three implementations. These kinds of comparisons can help when determining the [big O](https://en.wikipedia.org/wiki/Big_O_notation) of different algorithms."
   ]
  },
  {
   "cell_type": "markdown",
   "metadata": {},
   "source": [
    "## Bubble Sort"
   ]
  },
  {
   "cell_type": "code",
   "execution_count": 22,
   "metadata": {
    "collapsed": false,
    "scrolled": true
   },
   "outputs": [
    {
     "data": {
      "text/plain": [
       ":sort"
      ]
     },
     "execution_count": 22,
     "metadata": {},
     "output_type": "execute_result"
    }
   ],
   "source": [
    "class Items\n",
    "  attr_accessor :num_items\n",
    "\n",
    "  def initialize (array)\n",
    "    @array = array\n",
    "    @array_c = @array.dup # Create a duplicate so as not to change original\n",
    "    @num_items = array.length\n",
    "  end\n",
    "\n",
    "  def sort\n",
    "    begin\n",
    "      swapped = false\n",
    "      for i in 0..@num_items-2\n",
    "        if @array_c[i] > @array_c[i+1]\n",
    "          # Swap these two values\n",
    "          @array_c[i], @array_c[i+1] = @array_c[i+1], @array_c[i] # Swap values\n",
    "          swapped = true;\n",
    "        end # if\n",
    "      end # for loop\n",
    "    end while swapped\n",
    "    @array_c # Return the array\n",
    "  end # def\n",
    "end # class"
   ]
  },
  {
   "cell_type": "markdown",
   "metadata": {},
   "source": [
    "Let's call the sorting algorithm once to validate it works fine with a small array."
   ]
  },
  {
   "cell_type": "code",
   "execution_count": 23,
   "metadata": {
    "collapsed": false
   },
   "outputs": [
    {
     "name": "stdout",
     "output_type": "stream",
     "text": [
      "Original: [3777, 3498, 2323, 4686, 1509]\n",
      "Sorted: [1509, 2323, 3498, 3777, 4686]\n"
     ]
    }
   ],
   "source": [
    "# Create an array and call sorting algorithm\n",
    "length = 5\n",
    "randomArray = Array.new\n",
    "for i in 0..length-1\n",
    "  randomArray.push(rand(1..5000))\n",
    "end\n",
    "puts \"Original: #{randomArray}\"\n",
    "items = Items.new(randomArray)\n",
    "sortedArray = Array.new\n",
    "sortedArray = items.sort\n",
    "puts \"Sorted: #{sortedArray}\"\n"
   ]
  },
  {
   "cell_type": "markdown",
   "metadata": {},
   "source": [
    "We'll now invoke the sorting algorithm with different sizes of arrays, starting with a 200 element array and going all the way to 10,000 in increments of 200."
   ]
  },
  {
   "cell_type": "code",
   "execution_count": 24,
   "metadata": {
    "collapsed": false
   },
   "outputs": [
    {
     "name": "stdout",
     "output_type": "stream",
     "text": [
      "All results: [#<OpenStruct x=200, y=0.00936410398571752>, #<OpenStruct x=400, y=0.04419970701565035>, #<OpenStruct x=600, y=0.07444883900461718>, #<OpenStruct x=800, y=0.11735871699056588>, #<OpenStruct x=1000, y=0.18039844499435276>, #<OpenStruct x=1200, y=0.2743202820129227>, #<OpenStruct x=1400, y=0.382466718001524>, #<OpenStruct x=1600, y=0.49145136401057243>, #<OpenStruct x=1800, y=0.6227705900091678>, #<OpenStruct x=2000, y=0.7736220950027928>, #<OpenStruct x=2200, y=0.9368782000092324>, #<OpenStruct x=2400, y=1.0765711650019512>, #<OpenStruct x=2600, y=1.3100379110255744>, #<OpenStruct x=2800, y=1.5020354059815872>, #<OpenStruct x=3000, y=1.6915383010054938>, #<OpenStruct x=3200, y=1.9309219470014796>, #<OpenStruct x=3400, y=2.247352108999621>, #<OpenStruct x=3600, y=2.4786722249991726>, #<OpenStruct x=3800, y=2.725930577988038>, #<OpenStruct x=4000, y=3.1141356469888706>, #<OpenStruct x=4200, y=3.3483370460162405>, #<OpenStruct x=4400, y=3.702670107013546>, #<OpenStruct x=4600, y=4.0365465079958085>, #<OpenStruct x=4800, y=4.498932976013748>, #<OpenStruct x=5000, y=4.742021846002899>, #<OpenStruct x=5200, y=5.241781632008497>, #<OpenStruct x=5400, y=5.646079277998069>, #<OpenStruct x=5600, y=6.182329845993081>, #<OpenStruct x=5800, y=6.352918693999527>, #<OpenStruct x=6000, y=7.007511207018979>, #<OpenStruct x=6200, y=7.450136803992791>, #<OpenStruct x=6400, y=7.965866359998472>, #<OpenStruct x=6600, y=8.607934069004841>, #<OpenStruct x=6800, y=8.980860498006223>, #<OpenStruct x=7000, y=10.397055745997932>, #<OpenStruct x=7200, y=10.159902655985206>, #<OpenStruct x=7400, y=10.552598044014303>, #<OpenStruct x=7600, y=11.18238700600341>, #<OpenStruct x=7800, y=12.610129359993152>, #<OpenStruct x=8000, y=12.240374048997182>, #<OpenStruct x=8200, y=12.668340227013687>, #<OpenStruct x=8400, y=13.786487430013949>, #<OpenStruct x=8600, y=15.039116769010434>, #<OpenStruct x=8800, y=15.136721219023457>, #<OpenStruct x=9000, y=15.704530274990248>, #<OpenStruct x=9200, y=16.866286517994013>, #<OpenStruct x=9400, y=16.999687153991545>, #<OpenStruct x=9600, y=18.43884880200494>, #<OpenStruct x=9800, y=20.35640659101773>, #<OpenStruct x=10000, y=19.3407725750003>]\n"
     ]
    }
   ],
   "source": [
    "require 'benchmark'\n",
    "\n",
    "results_b = Array.new\n",
    "# Create several random arrays\n",
    "(200..10_000).step(200) do |length|\n",
    "  randomArray = Array.new\n",
    "  for i in 0..length-1\n",
    "    randomArray.push(rand(1..5000))\n",
    "  end\n",
    "  items = Items.new(randomArray)\n",
    "  sortedArray = Array.new\n",
    "  time = Benchmark.realtime {sortedArray = items.sort}\n",
    "  results_b.push(OpenStruct.new({:x=>length, :y=>time}))\n",
    "end\n",
    "puts \"All results: #{results_b}\"\n",
    "\n"
   ]
  },
  {
   "cell_type": "code",
   "execution_count": 25,
   "metadata": {
    "collapsed": false
   },
   "outputs": [
    {
     "name": "stdout",
     "output_type": "stream",
     "text": [
      "Total time: 337.23 seconds\n"
     ]
    }
   ],
   "source": [
    "sum = 0\n",
    "results_b.each do |item|\n",
    "  sum += item.to_h[:y]\n",
    "end\n",
    "puts \"Total time: #{sum.round(2)} seconds\""
   ]
  },
  {
   "cell_type": "markdown",
   "metadata": {},
   "source": [
    "The chart below shows how the time to sort increments as the array gets larger. The bubble sort has a big O complexity of n squared and this is clearly visible."
   ]
  },
  {
   "cell_type": "code",
   "execution_count": 26,
   "metadata": {
    "collapsed": false,
    "scrolled": true
   },
   "outputs": [
    {
     "data": {
      "text/html": [
       "<svg xmlns=\"http://www.w3.org/2000/svg\" xmlns:xlink=\"http://www.w3.org/1999/xlink\" font-size=\"10px\" font-family=\"sans-serif\" fill=\"none\" stroke=\"none\" stroke-width=\"1.5\" width=\"530\" height=\"325\">\n",
       "     <g transform=\"translate(20,5)\">\n",
       "          <line shape-rendering=\"crispEdges\" x1=\"0\" y1=\"300.0\" x2=\"500\" y2=\"300.0\" stroke=\"rgb(0,0,0)\" stroke-width=\"1\"/>\n",
       "          <line shape-rendering=\"crispEdges\" x1=\"0\" y1=\"275.0\" x2=\"500\" y2=\"275.0\" stroke=\"rgb(238,238,238)\" stroke-width=\"1\"/>\n",
       "          <line shape-rendering=\"crispEdges\" x1=\"0\" y1=\"250.0\" x2=\"500\" y2=\"250.0\" stroke=\"rgb(238,238,238)\" stroke-width=\"1\"/>\n",
       "          <line shape-rendering=\"crispEdges\" x1=\"0\" y1=\"225.0\" x2=\"500\" y2=\"225.0\" stroke=\"rgb(238,238,238)\" stroke-width=\"1\"/>\n",
       "          <line shape-rendering=\"crispEdges\" x1=\"0\" y1=\"200.0\" x2=\"500\" y2=\"200.0\" stroke=\"rgb(238,238,238)\" stroke-width=\"1\"/>\n",
       "          <line shape-rendering=\"crispEdges\" x1=\"0\" y1=\"175.0\" x2=\"500\" y2=\"175.0\" stroke=\"rgb(238,238,238)\" stroke-width=\"1\"/>\n",
       "          <line shape-rendering=\"crispEdges\" x1=\"0\" y1=\"150.0\" x2=\"500\" y2=\"150.0\" stroke=\"rgb(238,238,238)\" stroke-width=\"1\"/>\n",
       "          <line shape-rendering=\"crispEdges\" x1=\"0\" y1=\"125.0\" x2=\"500\" y2=\"125.0\" stroke=\"rgb(238,238,238)\" stroke-width=\"1\"/>\n",
       "          <line shape-rendering=\"crispEdges\" x1=\"0\" y1=\"100.0\" x2=\"500\" y2=\"100.0\" stroke=\"rgb(238,238,238)\" stroke-width=\"1\"/>\n",
       "          <line shape-rendering=\"crispEdges\" x1=\"0\" y1=\"75.0\" x2=\"500\" y2=\"75.0\" stroke=\"rgb(238,238,238)\" stroke-width=\"1\"/>\n",
       "          <line shape-rendering=\"crispEdges\" x1=\"0\" y1=\"50.0\" x2=\"500\" y2=\"50.0\" stroke=\"rgb(238,238,238)\" stroke-width=\"1\"/>\n",
       "          <line shape-rendering=\"crispEdges\" x1=\"0\" y1=\"25.0\" x2=\"500\" y2=\"25.0\" stroke=\"rgb(238,238,238)\" stroke-width=\"1\"/>\n",
       "          <line shape-rendering=\"crispEdges\" x1=\"0\" y1=\"0.0\" x2=\"500\" y2=\"0.0\" stroke=\"rgb(238,238,238)\" stroke-width=\"1\"/>\n",
       "     </g>\n",
       "     <g transform=\"translate(20,5)\">\n",
       "          <text pointer-events=\"none\" x=\"-3\" dy=\".35em\" transform=\"translate(0,300.0)\" fill=\"rgb(0,0,0)\" text-anchor=\"end\">0</text>\n",
       "          <text pointer-events=\"none\" x=\"-3\" dy=\".35em\" transform=\"translate(0,275.0)\" fill=\"rgb(0,0,0)\" text-anchor=\"end\">2</text>\n",
       "          <text pointer-events=\"none\" x=\"-3\" dy=\".35em\" transform=\"translate(0,250.0)\" fill=\"rgb(0,0,0)\" text-anchor=\"end\">4</text>\n",
       "          <text pointer-events=\"none\" x=\"-3\" dy=\".35em\" transform=\"translate(0,225.0)\" fill=\"rgb(0,0,0)\" text-anchor=\"end\">6</text>\n",
       "          <text pointer-events=\"none\" x=\"-3\" dy=\".35em\" transform=\"translate(0,200.0)\" fill=\"rgb(0,0,0)\" text-anchor=\"end\">8</text>\n",
       "          <text pointer-events=\"none\" x=\"-3\" dy=\".35em\" transform=\"translate(0,175.0)\" fill=\"rgb(0,0,0)\" text-anchor=\"end\">10</text>\n",
       "          <text pointer-events=\"none\" x=\"-3\" dy=\".35em\" transform=\"translate(0,150.0)\" fill=\"rgb(0,0,0)\" text-anchor=\"end\">12</text>\n",
       "          <text pointer-events=\"none\" x=\"-3\" dy=\".35em\" transform=\"translate(0,125.0)\" fill=\"rgb(0,0,0)\" text-anchor=\"end\">14</text>\n",
       "          <text pointer-events=\"none\" x=\"-3\" dy=\".35em\" transform=\"translate(0,100.0)\" fill=\"rgb(0,0,0)\" text-anchor=\"end\">16</text>\n",
       "          <text pointer-events=\"none\" x=\"-3\" dy=\".35em\" transform=\"translate(0,75.0)\" fill=\"rgb(0,0,0)\" text-anchor=\"end\">18</text>\n",
       "          <text pointer-events=\"none\" x=\"-3\" dy=\".35em\" transform=\"translate(0,50.0)\" fill=\"rgb(0,0,0)\" text-anchor=\"end\">20</text>\n",
       "          <text pointer-events=\"none\" x=\"-3\" dy=\".35em\" transform=\"translate(0,25.0)\" fill=\"rgb(0,0,0)\" text-anchor=\"end\">22</text>\n",
       "          <text pointer-events=\"none\" x=\"-3\" dy=\".35em\" transform=\"translate(0,0.0)\" fill=\"rgb(0,0,0)\" text-anchor=\"end\">24</text>\n",
       "     </g>\n",
       "     <g transform=\"translate(20,5)\">\n",
       "          <line shape-rendering=\"crispEdges\" x1=\"40.816326530612244\" y1=\"300\" x2=\"40.816326530612244\" y2=\"305\" stroke=\"rgb(0,0,0)\" stroke-width=\"1\"/>\n",
       "          <line shape-rendering=\"crispEdges\" x1=\"91.83673469387756\" y1=\"300\" x2=\"91.83673469387756\" y2=\"305\" stroke=\"rgb(0,0,0)\" stroke-width=\"1\"/>\n",
       "          <line shape-rendering=\"crispEdges\" x1=\"142.85714285714286\" y1=\"300\" x2=\"142.85714285714286\" y2=\"305\" stroke=\"rgb(0,0,0)\" stroke-width=\"1\"/>\n",
       "          <line shape-rendering=\"crispEdges\" x1=\"193.87755102040816\" y1=\"300\" x2=\"193.87755102040816\" y2=\"305\" stroke=\"rgb(0,0,0)\" stroke-width=\"1\"/>\n",
       "          <line shape-rendering=\"crispEdges\" x1=\"244.89795918367346\" y1=\"300\" x2=\"244.89795918367346\" y2=\"305\" stroke=\"rgb(0,0,0)\" stroke-width=\"1\"/>\n",
       "          <line shape-rendering=\"crispEdges\" x1=\"295.9183673469388\" y1=\"300\" x2=\"295.9183673469388\" y2=\"305\" stroke=\"rgb(0,0,0)\" stroke-width=\"1\"/>\n",
       "          <line shape-rendering=\"crispEdges\" x1=\"346.9387755102041\" y1=\"300\" x2=\"346.9387755102041\" y2=\"305\" stroke=\"rgb(0,0,0)\" stroke-width=\"1\"/>\n",
       "          <line shape-rendering=\"crispEdges\" x1=\"397.9591836734694\" y1=\"300\" x2=\"397.9591836734694\" y2=\"305\" stroke=\"rgb(0,0,0)\" stroke-width=\"1\"/>\n",
       "          <line shape-rendering=\"crispEdges\" x1=\"448.9795918367347\" y1=\"300\" x2=\"448.9795918367347\" y2=\"305\" stroke=\"rgb(0,0,0)\" stroke-width=\"1\"/>\n",
       "          <line shape-rendering=\"crispEdges\" x1=\"500.0\" y1=\"300\" x2=\"500.0\" y2=\"305\" stroke=\"rgb(0,0,0)\" stroke-width=\"1\"/>\n",
       "     </g>\n",
       "     <g transform=\"translate(20,5)\">\n",
       "          <text pointer-events=\"none\" y=\"3\" dy=\".71em\" transform=\"translate(40.816326530612244,305)\" fill=\"rgb(0,0,0)\" text-anchor=\"middle\">1,000</text>\n",
       "          <text pointer-events=\"none\" y=\"3\" dy=\".71em\" transform=\"translate(91.83673469387756,305)\" fill=\"rgb(0,0,0)\" text-anchor=\"middle\">2,000</text>\n",
       "          <text pointer-events=\"none\" y=\"3\" dy=\".71em\" transform=\"translate(142.85714285714286,305)\" fill=\"rgb(0,0,0)\" text-anchor=\"middle\">3,000</text>\n",
       "          <text pointer-events=\"none\" y=\"3\" dy=\".71em\" transform=\"translate(193.87755102040816,305)\" fill=\"rgb(0,0,0)\" text-anchor=\"middle\">4,000</text>\n",
       "          <text pointer-events=\"none\" y=\"3\" dy=\".71em\" transform=\"translate(244.89795918367346,305)\" fill=\"rgb(0,0,0)\" text-anchor=\"middle\">5,000</text>\n",
       "          <text pointer-events=\"none\" y=\"3\" dy=\".71em\" transform=\"translate(295.9183673469388,305)\" fill=\"rgb(0,0,0)\" text-anchor=\"middle\">6,000</text>\n",
       "          <text pointer-events=\"none\" y=\"3\" dy=\".71em\" transform=\"translate(346.9387755102041,305)\" fill=\"rgb(0,0,0)\" text-anchor=\"middle\">7,000</text>\n",
       "          <text pointer-events=\"none\" y=\"3\" dy=\".71em\" transform=\"translate(397.9591836734694,305)\" fill=\"rgb(0,0,0)\" text-anchor=\"middle\">8,000</text>\n",
       "          <text pointer-events=\"none\" y=\"3\" dy=\".71em\" transform=\"translate(448.9795918367347,305)\" fill=\"rgb(0,0,0)\" text-anchor=\"middle\">9,000</text>\n",
       "          <text pointer-events=\"none\" y=\"3\" dy=\".71em\" transform=\"translate(500.0,305)\" fill=\"rgb(0,0,0)\" text-anchor=\"middle\">10,000</text>\n",
       "     </g>\n",
       "     <g transform=\"translate(20,5)\">\n",
       "          <path d=\"M0.0,298.88294870017853L10.204081632653061,298.44750366230437L20.408163265306122,298.0693895124423L30.612244897959183,297.5330160376179L40.816326530612244,296.7450194375706L51.02040816326531,295.57099647483847L61.224489795918366,294.21916602498095L71.42857142857143,292.85685794986784L81.63265306122449,291.2153676248854L91.83673469387756,289.3297238124651L102.04081632653062,287.2890224998846L112.24489795918367,285.5428604374756L122.44897959183673,282.6245261121803L132.65306122448982,280.22455742523016L142.85714285714286,277.8557712374313L153.06122448979593,274.8634756624815L163.26530612244898,270.90809863750474L173.46938775510205,268.01659718751034L183.67346938775512,264.9258677751495L193.87755102040816,260.0733044126391L204.08163265306123,257.145786924797L214.28571428571428,252.71662366233068L224.48979591836735,248.5431686500524L234.69387755102042,242.76333779982815L244.89795918367346,239.72472692496376L255.10204081632654,233.4777295998938L265.30612244897964,228.42400902502413L275.51020408163265,221.7208769250865L285.7142857142857,219.5885163250059L295.9183673469388,211.40610991226276L306.12244897959187,205.8732899500901L316.32653061224494,199.4266705000191L326.53061224489795,191.40082413743949L336.734693877551,186.73924377492222L346.9387755102041,169.03680317502585L357.14285714285717,172.00121680018492L367.34693877551024,167.0925244498212L377.55102040816325,159.22016242495738L387.7551020408163,141.3733830000856L397.9591836734694,145.99532438753522L408.16326530612247,140.64574716232892L418.36734693877554,126.66890712482564L428.57142857142856,111.01104038736958L438.7755102040816,109.79098476220679L448.9795918367347,102.6933715626219L459.18367346938777,88.17141852507484L469.38775510204084,86.50391057510569L479.59183673469386,68.51438997493824L489.7959183673469,44.54491761227837L500.0,57.24034281249624L500.0,299.0L489.7959183673469,299.0L479.59183673469386,299.0L469.38775510204084,299.0L459.18367346938777,299.0L448.9795918367347,299.0L438.7755102040816,299.0L428.57142857142856,299.0L418.36734693877554,299.0L408.16326530612247,299.0L397.9591836734694,299.0L387.7551020408163,299.0L377.55102040816325,299.0L367.34693877551024,299.0L357.14285714285717,299.0L346.9387755102041,299.0L336.734693877551,299.0L326.53061224489795,299.0L316.32653061224494,299.0L306.12244897959187,299.0L295.9183673469388,299.0L285.7142857142857,299.0L275.51020408163265,299.0L265.30612244897964,299.0L255.10204081632654,299.0L244.89795918367346,299.0L234.69387755102042,299.0L224.48979591836735,299.0L214.28571428571428,299.0L204.08163265306123,299.0L193.87755102040816,299.0L183.67346938775512,299.0L173.46938775510205,299.0L163.26530612244898,299.0L153.06122448979593,299.0L142.85714285714286,299.0L132.65306122448982,299.0L122.44897959183673,299.0L112.24489795918367,299.0L102.04081632653062,299.0L91.83673469387756,299.0L81.63265306122449,299.0L71.42857142857143,299.0L61.224489795918366,299.0L51.02040816326531,299.0L40.816326530612244,299.0L30.612244897959183,299.0L20.408163265306122,299.0L10.204081632653061,299.0L0.0,299.0Z\" fill=\"rgb(121,173,210)\"/>\n",
       "     </g>\n",
       "     <g transform=\"translate(20,5)\">\n",
       "          <path d=\"M0.0,298.88294870017853L10.204081632653061,298.44750366230437L20.408163265306122,298.0693895124423L30.612244897959183,297.5330160376179L40.816326530612244,296.7450194375706L51.02040816326531,295.57099647483847L61.224489795918366,294.21916602498095L71.42857142857143,292.85685794986784L81.63265306122449,291.2153676248854L91.83673469387756,289.3297238124651L102.04081632653062,287.2890224998846L112.24489795918367,285.5428604374756L122.44897959183673,282.6245261121803L132.65306122448982,280.22455742523016L142.85714285714286,277.8557712374313L153.06122448979593,274.8634756624815L163.26530612244898,270.90809863750474L173.46938775510205,268.01659718751034L183.67346938775512,264.9258677751495L193.87755102040816,260.0733044126391L204.08163265306123,257.145786924797L214.28571428571428,252.71662366233068L224.48979591836735,248.5431686500524L234.69387755102042,242.76333779982815L244.89795918367346,239.72472692496376L255.10204081632654,233.4777295998938L265.30612244897964,228.42400902502413L275.51020408163265,221.7208769250865L285.7142857142857,219.5885163250059L295.9183673469388,211.40610991226276L306.12244897959187,205.8732899500901L316.32653061224494,199.4266705000191L326.53061224489795,191.40082413743949L336.734693877551,186.73924377492222L346.9387755102041,169.03680317502585L357.14285714285717,172.00121680018492L367.34693877551024,167.0925244498212L377.55102040816325,159.22016242495738L387.7551020408163,141.3733830000856L397.9591836734694,145.99532438753522L408.16326530612247,140.64574716232892L418.36734693877554,126.66890712482564L428.57142857142856,111.01104038736958L438.7755102040816,109.79098476220679L448.9795918367347,102.6933715626219L459.18367346938777,88.17141852507484L469.38775510204084,86.50391057510569L479.59183673469386,68.51438997493824L489.7959183673469,44.54491761227837L500.0,57.24034281249624\" fill=\"none\" stroke=\"rgb(31,119,180)\" stroke-dasharray=\"\" stroke-width=\"3\"/>\n",
       "     </g>\n",
       "     <g transform=\"translate(20,5)\">\n",
       "          <text pointer-events=\"none\" y=\"-3\" transform=\"translate(250.0,22)\" fill=\"rgb(0,0,0)\" text-anchor=\"middle\" style=\"font:16px sans-serif\">Speed vs Sort Length</text>\n",
       "     </g>\n",
       "</svg>"
      ],
      "text/plain": [
       "\"<svg xmlns=\\\"http://www.w3.org/2000/svg\\\" xmlns:xlink=\\\"http://www.w3.org/1999/xlink\\\" font-size=\\\"10px\\\" font-family=\\\"sans-serif\\\" fill=\\\"none\\\" stroke=\\\"none\\\" stroke-width=\\\"1.5\\\" width=\\\"530\\\" height=\\\"325\\\">\\n     <g transform=\\\"translate(20,5)\\\">\\n          <line shape-rendering=\\\"crispEdges\\\" x1=\\\"0\\\" y1=\\\"300.0\\\" x2=\\\"500\\\" y2=\\\"300.0\\\" stroke=\\\"rgb(0,0,0)\\\" stroke-width=\\\"1\\\"/>\\n          <line shape-rendering=\\\"crispEdges\\\" x1=\\\"0\\\" y1=\\\"275.0\\\" x2=\\\"500\\\" y2=\\\"275.0\\\" stroke=\\\"rgb(238,238,238)\\\" stroke-width=\\\"1\\\"/>\\n          <line shape-rendering=\\\"crispEdges\\\" x1=\\\"0\\\" y1=\\\"250.0\\\" x2=\\\"500\\\" y2=\\\"250.0\\\" stroke=\\\"rgb(238,238,238)\\\" stroke-width=\\\"1\\\"/>\\n          <line shape-rendering=\\\"crispEdges\\\" x1=\\\"0\\\" y1=\\\"225.0\\\" x2=\\\"500\\\" y2=\\\"225.0\\\" stroke=\\\"rgb(238,238,238)\\\" stroke-width=\\\"1\\\"/>\\n          <line shape-rendering=\\\"crispEdges\\\" x1=\\\"0\\\" y1=\\\"200.0\\\" x2=\\\"500\\\" y2=\\\"200.0\\\" stroke=\\\"rgb(238,238,238)\\\" stroke-width=\\\"1\\\"/>\\n          <line shape-rendering=\\\"crispEdges\\\" x1=\\\"0\\\" y1=\\\"175.0\\\" x2=\\\"500\\\" y2=\\\"175.0\\\" stroke=\\\"rgb(238,238,238)\\\" stroke-width=\\\"1\\\"/>\\n          <line shape-rendering=\\\"crispEdges\\\" x1=\\\"0\\\" y1=\\\"150.0\\\" x2=\\\"500\\\" y2=\\\"150.0\\\" stroke=\\\"rgb(238,238,238)\\\" stroke-width=\\\"1\\\"/>\\n          <line shape-rendering=\\\"crispEdges\\\" x1=\\\"0\\\" y1=\\\"125.0\\\" x2=\\\"500\\\" y2=\\\"125.0\\\" stroke=\\\"rgb(238,238,238)\\\" stroke-width=\\\"1\\\"/>\\n          <line shape-rendering=\\\"crispEdges\\\" x1=\\\"0\\\" y1=\\\"100.0\\\" x2=\\\"500\\\" y2=\\\"100.0\\\" stroke=\\\"rgb(238,238,238)\\\" stroke-width=\\\"1\\\"/>\\n          <line shape-rendering=\\\"crispEdges\\\" x1=\\\"0\\\" y1=\\\"75.0\\\" x2=\\\"500\\\" y2=\\\"75.0\\\" stroke=\\\"rgb(238,238,238)\\\" stroke-width=\\\"1\\\"/>\\n          <line shape-rendering=\\\"crispEdges\\\" x1=\\\"0\\\" y1=\\\"50.0\\\" x2=\\\"500\\\" y2=\\\"50.0\\\" stroke=\\\"rgb(238,238,238)\\\" stroke-width=\\\"1\\\"/>\\n          <line shape-rendering=\\\"crispEdges\\\" x1=\\\"0\\\" y1=\\\"25.0\\\" x2=\\\"500\\\" y2=\\\"25.0\\\" stroke=\\\"rgb(238,238,238)\\\" stroke-width=\\\"1\\\"/>\\n          <line shape-rendering=\\\"crispEdges\\\" x1=\\\"0\\\" y1=\\\"0.0\\\" x2=\\\"500\\\" y2=\\\"0.0\\\" stroke=\\\"rgb(238,238,238)\\\" stroke-width=\\\"1\\\"/>\\n     </g>\\n     <g transform=\\\"translate(20,5)\\\">\\n          <text pointer-events=\\\"none\\\" x=\\\"-3\\\" dy=\\\".35em\\\" transform=\\\"translate(0,300.0)\\\" fill=\\\"rgb(0,0,0)\\\" text-anchor=\\\"end\\\">0</text>\\n          <text pointer-events=\\\"none\\\" x=\\\"-3\\\" dy=\\\".35em\\\" transform=\\\"translate(0,275.0)\\\" fill=\\\"rgb(0,0,0)\\\" text-anchor=\\\"end\\\">2</text>\\n          <text pointer-events=\\\"none\\\" x=\\\"-3\\\" dy=\\\".35em\\\" transform=\\\"translate(0,250.0)\\\" fill=\\\"rgb(0,0,0)\\\" text-anchor=\\\"end\\\">4</text>\\n          <text pointer-events=\\\"none\\\" x=\\\"-3\\\" dy=\\\".35em\\\" transform=\\\"translate(0,225.0)\\\" fill=\\\"rgb(0,0,0)\\\" text-anchor=\\\"end\\\">6</text>\\n          <text pointer-events=\\\"none\\\" x=\\\"-3\\\" dy=\\\".35em\\\" transform=\\\"translate(0,200.0)\\\" fill=\\\"rgb(0,0,0)\\\" text-anchor=\\\"end\\\">8</text>\\n          <text pointer-events=\\\"none\\\" x=\\\"-3\\\" dy=\\\".35em\\\" transform=\\\"translate(0,175.0)\\\" fill=\\\"rgb(0,0,0)\\\" text-anchor=\\\"end\\\">10</text>\\n          <text pointer-events=\\\"none\\\" x=\\\"-3\\\" dy=\\\".35em\\\" transform=\\\"translate(0,150.0)\\\" fill=\\\"rgb(0,0,0)\\\" text-anchor=\\\"end\\\">12</text>\\n          <text pointer-events=\\\"none\\\" x=\\\"-3\\\" dy=\\\".35em\\\" transform=\\\"translate(0,125.0)\\\" fill=\\\"rgb(0,0,0)\\\" text-anchor=\\\"end\\\">14</text>\\n          <text pointer-events=\\\"none\\\" x=\\\"-3\\\" dy=\\\".35em\\\" transform=\\\"translate(0,100.0)\\\" fill=\\\"rgb(0,0,0)\\\" text-anchor=\\\"end\\\">16</text>\\n          <text pointer-events=\\\"none\\\" x=\\\"-3\\\" dy=\\\".35em\\\" transform=\\\"translate(0,75.0)\\\" fill=\\\"rgb(0,0,0)\\\" text-anchor=\\\"end\\\">18</text>\\n          <text pointer-events=\\\"none\\\" x=\\\"-3\\\" dy=\\\".35em\\\" transform=\\\"translate(0,50.0)\\\" fill=\\\"rgb(0,0,0)\\\" text-anchor=\\\"end\\\">20</text>\\n          <text pointer-events=\\\"none\\\" x=\\\"-3\\\" dy=\\\".35em\\\" transform=\\\"translate(0,25.0)\\\" fill=\\\"rgb(0,0,0)\\\" text-anchor=\\\"end\\\">22</text>\\n          <text pointer-events=\\\"none\\\" x=\\\"-3\\\" dy=\\\".35em\\\" transform=\\\"translate(0,0.0)\\\" fill=\\\"rgb(0,0,0)\\\" text-anchor=\\\"end\\\">24</text>\\n     </g>\\n     <g transform=\\\"translate(20,5)\\\">\\n          <line shape-rendering=\\\"crispEdges\\\" x1=\\\"40.816326530612244\\\" y1=\\\"300\\\" x2=\\\"40.816326530612244\\\" y2=\\\"305\\\" stroke=\\\"rgb(0,0,0)\\\" stroke-width=\\\"1\\\"/>\\n          <line shape-rendering=\\\"crispEdges\\\" x1=\\\"91.83673469387756\\\" y1=\\\"300\\\" x2=\\\"91.83673469387756\\\" y2=\\\"305\\\" stroke=\\\"rgb(0,0,0)\\\" stroke-width=\\\"1\\\"/>\\n          <line shape-rendering=\\\"crispEdges\\\" x1=\\\"142.85714285714286\\\" y1=\\\"300\\\" x2=\\\"142.85714285714286\\\" y2=\\\"305\\\" stroke=\\\"rgb(0,0,0)\\\" stroke-width=\\\"1\\\"/>\\n          <line shape-rendering=\\\"crispEdges\\\" x1=\\\"193.87755102040816\\\" y1=\\\"300\\\" x2=\\\"193.87755102040816\\\" y2=\\\"305\\\" stroke=\\\"rgb(0,0,0)\\\" stroke-width=\\\"1\\\"/>\\n          <line shape-rendering=\\\"crispEdges\\\" x1=\\\"244.89795918367346\\\" y1=\\\"300\\\" x2=\\\"244.89795918367346\\\" y2=\\\"305\\\" stroke=\\\"rgb(0,0,0)\\\" stroke-width=\\\"1\\\"/>\\n          <line shape-rendering=\\\"crispEdges\\\" x1=\\\"295.9183673469388\\\" y1=\\\"300\\\" x2=\\\"295.9183673469388\\\" y2=\\\"305\\\" stroke=\\\"rgb(0,0,0)\\\" stroke-width=\\\"1\\\"/>\\n          <line shape-rendering=\\\"crispEdges\\\" x1=\\\"346.9387755102041\\\" y1=\\\"300\\\" x2=\\\"346.9387755102041\\\" y2=\\\"305\\\" stroke=\\\"rgb(0,0,0)\\\" stroke-width=\\\"1\\\"/>\\n          <line shape-rendering=\\\"crispEdges\\\" x1=\\\"397.9591836734694\\\" y1=\\\"300\\\" x2=\\\"397.9591836734694\\\" y2=\\\"305\\\" stroke=\\\"rgb(0,0,0)\\\" stroke-width=\\\"1\\\"/>\\n          <line shape-rendering=\\\"crispEdges\\\" x1=\\\"448.9795918367347\\\" y1=\\\"300\\\" x2=\\\"448.9795918367347\\\" y2=\\\"305\\\" stroke=\\\"rgb(0,0,0)\\\" stroke-width=\\\"1\\\"/>\\n          <line shape-rendering=\\\"crispEdges\\\" x1=\\\"500.0\\\" y1=\\\"300\\\" x2=\\\"500.0\\\" y2=\\\"305\\\" stroke=\\\"rgb(0,0,0)\\\" stroke-width=\\\"1\\\"/>\\n     </g>\\n     <g transform=\\\"translate(20,5)\\\">\\n          <text pointer-events=\\\"none\\\" y=\\\"3\\\" dy=\\\".71em\\\" transform=\\\"translate(40.816326530612244,305)\\\" fill=\\\"rgb(0,0,0)\\\" text-anchor=\\\"middle\\\">1,000</text>\\n          <text pointer-events=\\\"none\\\" y=\\\"3\\\" dy=\\\".71em\\\" transform=\\\"translate(91.83673469387756,305)\\\" fill=\\\"rgb(0,0,0)\\\" text-anchor=\\\"middle\\\">2,000</text>\\n          <text pointer-events=\\\"none\\\" y=\\\"3\\\" dy=\\\".71em\\\" transform=\\\"translate(142.85714285714286,305)\\\" fill=\\\"rgb(0,0,0)\\\" text-anchor=\\\"middle\\\">3,000</text>\\n          <text pointer-events=\\\"none\\\" y=\\\"3\\\" dy=\\\".71em\\\" transform=\\\"translate(193.87755102040816,305)\\\" fill=\\\"rgb(0,0,0)\\\" text-anchor=\\\"middle\\\">4,000</text>\\n          <text pointer-events=\\\"none\\\" y=\\\"3\\\" dy=\\\".71em\\\" transform=\\\"translate(244.89795918367346,305)\\\" fill=\\\"rgb(0,0,0)\\\" text-anchor=\\\"middle\\\">5,000</text>\\n          <text pointer-events=\\\"none\\\" y=\\\"3\\\" dy=\\\".71em\\\" transform=\\\"translate(295.9183673469388,305)\\\" fill=\\\"rgb(0,0,0)\\\" text-anchor=\\\"middle\\\">6,000</text>\\n          <text pointer-events=\\\"none\\\" y=\\\"3\\\" dy=\\\".71em\\\" transform=\\\"translate(346.9387755102041,305)\\\" fill=\\\"rgb(0,0,0)\\\" text-anchor=\\\"middle\\\">7,000</text>\\n          <text pointer-events=\\\"none\\\" y=\\\"3\\\" dy=\\\".71em\\\" transform=\\\"translate(397.9591836734694,305)\\\" fill=\\\"rgb(0,0,0)\\\" text-anchor=\\\"middle\\\">8,000</text>\\n          <text pointer-events=\\\"none\\\" y=\\\"3\\\" dy=\\\".71em\\\" transform=\\\"translate(448.9795918367347,305)\\\" fill=\\\"rgb(0,0,0)\\\" text-anchor=\\\"middle\\\">9,000</text>\\n          <text pointer-events=\\\"none\\\" y=\\\"3\\\" dy=\\\".71em\\\" transform=\\\"translate(500.0,305)\\\" fill=\\\"rgb(0,0,0)\\\" text-anchor=\\\"middle\\\">10,000</text>\\n     </g>\\n     <g transform=\\\"translate(20,5)\\\">\\n          <path d=\\\"M0.0,298.88294870017853L10.204081632653061,298.44750366230437L20.408163265306122,298.0693895124423L30.612244897959183,297.5330160376179L40.816326530612244,296.7450194375706L51.02040816326531,295.57099647483847L61.224489795918366,294.21916602498095L71.42857142857143,292.85685794986784L81.63265306122449,291.2153676248854L91.83673469387756,289.3297238124651L102.04081632653062,287.2890224998846L112.24489795918367,285.5428604374756L122.44897959183673,282.6245261121803L132.65306122448982,280.22455742523016L142.85714285714286,277.8557712374313L153.06122448979593,274.8634756624815L163.26530612244898,270.90809863750474L173.46938775510205,268.01659718751034L183.67346938775512,264.9258677751495L193.87755102040816,260.0733044126391L204.08163265306123,257.145786924797L214.28571428571428,252.71662366233068L224.48979591836735,248.5431686500524L234.69387755102042,242.76333779982815L244.89795918367346,239.72472692496376L255.10204081632654,233.4777295998938L265.30612244897964,228.42400902502413L275.51020408163265,221.7208769250865L285.7142857142857,219.5885163250059L295.9183673469388,211.40610991226276L306.12244897959187,205.8732899500901L316.32653061224494,199.4266705000191L326.53061224489795,191.40082413743949L336.734693877551,186.73924377492222L346.9387755102041,169.03680317502585L357.14285714285717,172.00121680018492L367.34693877551024,167.0925244498212L377.55102040816325,159.22016242495738L387.7551020408163,141.3733830000856L397.9591836734694,145.99532438753522L408.16326530612247,140.64574716232892L418.36734693877554,126.66890712482564L428.57142857142856,111.01104038736958L438.7755102040816,109.79098476220679L448.9795918367347,102.6933715626219L459.18367346938777,88.17141852507484L469.38775510204084,86.50391057510569L479.59183673469386,68.51438997493824L489.7959183673469,44.54491761227837L500.0,57.24034281249624L500.0,299.0L489.7959183673469,299.0L479.59183673469386,299.0L469.38775510204084,299.0L459.18367346938777,299.0L448.9795918367347,299.0L438.7755102040816,299.0L428.57142857142856,299.0L418.36734693877554,299.0L408.16326530612247,299.0L397.9591836734694,299.0L387.7551020408163,299.0L377.55102040816325,299.0L367.34693877551024,299.0L357.14285714285717,299.0L346.9387755102041,299.0L336.734693877551,299.0L326.53061224489795,299.0L316.32653061224494,299.0L306.12244897959187,299.0L295.9183673469388,299.0L285.7142857142857,299.0L275.51020408163265,299.0L265.30612244897964,299.0L255.10204081632654,299.0L244.89795918367346,299.0L234.69387755102042,299.0L224.48979591836735,299.0L214.28571428571428,299.0L204.08163265306123,299.0L193.87755102040816,299.0L183.67346938775512,299.0L173.46938775510205,299.0L163.26530612244898,299.0L153.06122448979593,299.0L142.85714285714286,299.0L132.65306122448982,299.0L122.44897959183673,299.0L112.24489795918367,299.0L102.04081632653062,299.0L91.83673469387756,299.0L81.63265306122449,299.0L71.42857142857143,299.0L61.224489795918366,299.0L51.02040816326531,299.0L40.816326530612244,299.0L30.612244897959183,299.0L20.408163265306122,299.0L10.204081632653061,299.0L0.0,299.0Z\\\" fill=\\\"rgb(121,173,210)\\\"/>\\n     </g>\\n     <g transform=\\\"translate(20,5)\\\">\\n          <path d=\\\"M0.0,298.88294870017853L10.204081632653061,298.44750366230437L20.408163265306122,298.0693895124423L30.612244897959183,297.5330160376179L40.816326530612244,296.7450194375706L51.02040816326531,295.57099647483847L61.224489795918366,294.21916602498095L71.42857142857143,292.85685794986784L81.63265306122449,291.2153676248854L91.83673469387756,289.3297238124651L102.04081632653062,287.2890224998846L112.24489795918367,285.5428604374756L122.44897959183673,282.6245261121803L132.65306122448982,280.22455742523016L142.85714285714286,277.8557712374313L153.06122448979593,274.8634756624815L163.26530612244898,270.90809863750474L173.46938775510205,268.01659718751034L183.67346938775512,264.9258677751495L193.87755102040816,260.0733044126391L204.08163265306123,257.145786924797L214.28571428571428,252.71662366233068L224.48979591836735,248.5431686500524L234.69387755102042,242.76333779982815L244.89795918367346,239.72472692496376L255.10204081632654,233.4777295998938L265.30612244897964,228.42400902502413L275.51020408163265,221.7208769250865L285.7142857142857,219.5885163250059L295.9183673469388,211.40610991226276L306.12244897959187,205.8732899500901L316.32653061224494,199.4266705000191L326.53061224489795,191.40082413743949L336.734693877551,186.73924377492222L346.9387755102041,169.03680317502585L357.14285714285717,172.00121680018492L367.34693877551024,167.0925244498212L377.55102040816325,159.22016242495738L387.7551020408163,141.3733830000856L397.9591836734694,145.99532438753522L408.16326530612247,140.64574716232892L418.36734693877554,126.66890712482564L428.57142857142856,111.01104038736958L438.7755102040816,109.79098476220679L448.9795918367347,102.6933715626219L459.18367346938777,88.17141852507484L469.38775510204084,86.50391057510569L479.59183673469386,68.51438997493824L489.7959183673469,44.54491761227837L500.0,57.24034281249624\\\" fill=\\\"none\\\" stroke=\\\"rgb(31,119,180)\\\" stroke-dasharray=\\\"\\\" stroke-width=\\\"3\\\"/>\\n     </g>\\n     <g transform=\\\"translate(20,5)\\\">\\n          <text pointer-events=\\\"none\\\" y=\\\"-3\\\" transform=\\\"translate(250.0,22)\\\" fill=\\\"rgb(0,0,0)\\\" text-anchor=\\\"middle\\\" style=\\\"font:16px sans-serif\\\">Speed vs Sort Length</text>\\n     </g>\\n</svg>\""
      ]
     },
     "metadata": {},
     "output_type": "display_data"
    }
   ],
   "source": [
    "require 'rubyvis'\n",
    "\n",
    "results = results_b\n",
    "\n",
    "w = 500\n",
    "h = 300\n",
    "x = pv.Scale.linear(results, lambda {|d| d.x}).range(0, w)\n",
    "\n",
    "y = pv.Scale.linear(0, 24).range(0, h);\n",
    "\n",
    "#The root panel\n",
    "vis = pv.Panel.new() do\n",
    "  width w\n",
    "  height h\n",
    "  bottom 20\n",
    "  left 20\n",
    "  right 10\n",
    "  top 5\n",
    "\n",
    "# Y-axis and ticks\n",
    "  rule do\n",
    "    data y.ticks(10)\n",
    "    bottom(y)\n",
    "    stroke_style {|d| d!=0 ? \"#eee\" : \"#000\"}\n",
    "    label(:anchor=>\"left\") {\n",
    "      text y.tick_format\n",
    "    }\n",
    "  end\n",
    "  \n",
    "# X-axis and ticks.\n",
    "  rule do\n",
    "    data x.ticks()\n",
    "    visible {|d| d!=0}\n",
    "    left(x)\n",
    "    bottom(-5)\n",
    "    height(5)\n",
    "    label(:anchor=>'bottom') {\n",
    "      text(x.tick_format)\n",
    "    }\n",
    "  end\n",
    "\n",
    "#/* The area with top line. */\n",
    "  area do |a|\n",
    "    a.data results\n",
    "    a.bottom(1)\n",
    "    a.left {|d| x.scale(d.x)}\n",
    "    a.height {|d| y.scale(d.y)}\n",
    "    a.fill_style(\"rgb(121,173,210)\")\n",
    "    a.line(:anchor=>'top') {\n",
    "      line_width(3)\n",
    "    }\n",
    "  end\n",
    "\n",
    "#/* The title and labels. */\n",
    "  label do\n",
    "    top(22)\n",
    "    textAlign (\"center\")\n",
    "    text (\"Speed vs Sort Length\")\n",
    "    font (\"16px sans-serif\")\n",
    "  end\n",
    "end\n",
    "\n",
    "vis.render()\n",
    "svg_image = vis.to_svg # Output final SVG\n",
    "IRuby.display svg_image, mime:'text/html'"
   ]
  },
  {
   "cell_type": "markdown",
   "metadata": {},
   "source": [
    "## Insertion Sort"
   ]
  },
  {
   "cell_type": "code",
   "execution_count": 27,
   "metadata": {
    "collapsed": false
   },
   "outputs": [
    {
     "data": {
      "text/plain": [
       ":sort"
      ]
     },
     "execution_count": 27,
     "metadata": {},
     "output_type": "execute_result"
    }
   ],
   "source": [
    "class Items\n",
    "  attr_accessor :num_items\n",
    "\n",
    "  def initialize (array)\n",
    "    @array = array\n",
    "    @array_c = @array.dup # Create a duplicate so as not to change original\n",
    "    @num_items = array.length\n",
    "  end\n",
    "\n",
    "  def sort\n",
    "    for i in 1..@num_items-1\n",
    "      x = @array_c[i] # Pick out item to insert\n",
    "      j = i - 1\n",
    "      while j >= 0 && @array_c[j] > x\n",
    "        @array_c[j+1]=@array_c[j] # Shift array over\n",
    "        j -= 1\n",
    "      end #while\n",
    "      @array_c[j + 1] = x # Insert picked out item\n",
    "    end # for\n",
    "    @array_c # Return the array\n",
    "  end # def\n",
    "end # class"
   ]
  },
  {
   "cell_type": "code",
   "execution_count": 28,
   "metadata": {
    "collapsed": false
   },
   "outputs": [
    {
     "name": "stdout",
     "output_type": "stream",
     "text": [
      "Original: [757, 3719, 1055, 4417, 4078]\n",
      "Sorted: [757, 1055, 3719, 4078, 4417]\n"
     ]
    }
   ],
   "source": [
    "# Create an array and call sorting algorithm\n",
    "length = 5\n",
    "randomArray = Array.new\n",
    "for i in 0..length-1\n",
    "  randomArray.push(rand(1..5000))\n",
    "end\n",
    "puts \"Original: #{randomArray}\"\n",
    "items = Items.new(randomArray)\n",
    "sortedArray = Array.new\n",
    "sortedArray = items.sort\n",
    "puts \"Sorted: #{sortedArray}\"\n"
   ]
  },
  {
   "cell_type": "markdown",
   "metadata": {},
   "source": [
    "As before, we'll now invoke this sorting algorithm with different sizes of arrays, starting with a 200 element array and going all the way to 10,000 in increments of 200."
   ]
  },
  {
   "cell_type": "code",
   "execution_count": 29,
   "metadata": {
    "collapsed": false,
    "scrolled": false
   },
   "outputs": [
    {
     "name": "stdout",
     "output_type": "stream",
     "text": [
      "All results: [#<OpenStruct x=200, y=0.0010490040003787726>, #<OpenStruct x=400, y=0.025081381027121097>, #<OpenStruct x=600, y=0.013778265012660995>, #<OpenStruct x=800, y=0.01900751399807632>, #<OpenStruct x=1000, y=0.031587655015755445>, #<OpenStruct x=1200, y=0.04466996600967832>, #<OpenStruct x=1400, y=0.06210737500805408>, #<OpenStruct x=1600, y=0.07812379201641306>, #<OpenStruct x=1800, y=0.09427992897690274>, #<OpenStruct x=2000, y=0.13016069401055574>, #<OpenStruct x=2200, y=0.15695215601590462>, #<OpenStruct x=2400, y=0.18813286398653872>, #<OpenStruct x=2600, y=0.20513011800358072>, #<OpenStruct x=2800, y=0.22671990699018352>, #<OpenStruct x=3000, y=0.2667221119918395>, #<OpenStruct x=3200, y=0.30512702799751423>, #<OpenStruct x=3400, y=0.34571247501298785>, #<OpenStruct x=3600, y=0.38076040902524255>, #<OpenStruct x=3800, y=0.4235245329909958>, #<OpenStruct x=4000, y=0.4824033190088812>, #<OpenStruct x=4200, y=0.5239000940055121>, #<OpenStruct x=4400, y=0.5590883490222041>, #<OpenStruct x=4600, y=0.6204570929985493>, #<OpenStruct x=4800, y=0.6662608810001984>, #<OpenStruct x=5000, y=0.7529820399940945>, #<OpenStruct x=5200, y=0.8191638179996517>, #<OpenStruct x=5400, y=0.8697338819911238>, #<OpenStruct x=5600, y=0.9464597099868115>, #<OpenStruct x=5800, y=0.9905491429963149>, #<OpenStruct x=6000, y=1.060901068005478>, #<OpenStruct x=6200, y=1.157605724001769>, #<OpenStruct x=6400, y=1.192864357988583>, #<OpenStruct x=6600, y=1.291588635998778>, #<OpenStruct x=6800, y=1.379412741982378>, #<OpenStruct x=7000, y=1.4744312489929143>, #<OpenStruct x=7200, y=1.537547899002675>, #<OpenStruct x=7400, y=1.6197689859836828>, #<OpenStruct x=7600, y=1.755786530993646>, #<OpenStruct x=7800, y=1.8452839289966505>, #<OpenStruct x=8000, y=1.9123699530027807>, #<OpenStruct x=8200, y=1.9912555510236416>, #<OpenStruct x=8400, y=2.154627256997628>, #<OpenStruct x=8600, y=2.223901063000085>, #<OpenStruct x=8800, y=2.3169691130169667>, #<OpenStruct x=9000, y=2.4391934819868766>, #<OpenStruct x=9200, y=2.592419749009423>, #<OpenStruct x=9400, y=2.640240050997818>, #<OpenStruct x=9600, y=2.8016872910084203>, #<OpenStruct x=9800, y=2.8253829019959085>, #<OpenStruct x=10000, y=2.9685422719921917>]\n"
     ]
    }
   ],
   "source": [
    "require 'benchmark'\n",
    "\n",
    "results_i = Array.new\n",
    "# Create several random arrays\n",
    "(200..10_000).step(200) do |length|\n",
    "  randomArray = Array.new\n",
    "  for i in 0..length-1\n",
    "    randomArray.push(rand(1..5000))\n",
    "  end\n",
    "  items = Items.new(randomArray)\n",
    "  sortedArray = Array.new\n",
    "  time = Benchmark.realtime {sortedArray = items.sort}\n",
    "  results_i.push(OpenStruct.new({:x=>length, :y=>time}))\n",
    "end\n",
    "puts \"All results: #{results_i}\"\n",
    "\n"
   ]
  },
  {
   "cell_type": "code",
   "execution_count": 30,
   "metadata": {
    "collapsed": false
   },
   "outputs": [
    {
     "name": "stdout",
     "output_type": "stream",
     "text": [
      "Total time: 51.41 seconds\n"
     ]
    }
   ],
   "source": [
    "sum = 0\n",
    "results_i.each do |item|\n",
    "  sum += item.to_h[:y]\n",
    "end\n",
    "puts \"Total time: #{sum.round(2)} seconds\""
   ]
  },
  {
   "cell_type": "markdown",
   "metadata": {},
   "source": [
    "## Merge Sort"
   ]
  },
  {
   "cell_type": "code",
   "execution_count": 34,
   "metadata": {
    "collapsed": false
   },
   "outputs": [
    {
     "data": {
      "text/plain": [
       ":merge"
      ]
     },
     "execution_count": 34,
     "metadata": {},
     "output_type": "execute_result"
    }
   ],
   "source": [
    "class Items\n",
    "  attr_accessor :num_items\n",
    "\n",
    "  def initialize (array)\n",
    "    @array = array\n",
    "    @array_c = @array.dup # Create a duplicate so as not to change original\n",
    "    @num_items = array.length\n",
    "  end\n",
    "\n",
    "  def sort\n",
    "    sorted_result = merge_sort (@array_c)\n",
    "    return sorted_result\n",
    "  end # def\n",
    "\n",
    "  private\n",
    "\n",
    "  def merge_sort (list)\n",
    "    # Base case, a list of zero or one element is sorted\n",
    "    return list if list.length <= 1\n",
    "\n",
    "    length = list.length\n",
    "    left = Array.new\n",
    "    right = Array.new\n",
    "\n",
    "    for i in 0..length - 1\n",
    "      (i % 2 == 0) ? left.push(list[i]) : right.push(list[i])\n",
    "    end # for\n",
    "\n",
    "    # Recursively sort both sublists\n",
    "    left = merge_sort(left)\n",
    "    right = merge_sort(right)\n",
    "\n",
    "    # Merge the sorted sublists\n",
    "    return merge(left, right)\n",
    "\n",
    "  end # def\n",
    "\n",
    "  def merge (left, right)\n",
    "    result = Array.new\n",
    "    while (not left.empty?) && (not right.empty?)\n",
    "      if left.first <= right.first\n",
    "        result.push(left.first)\n",
    "        left.shift\n",
    "      else\n",
    "        result.push(right.first)\n",
    "        right.shift\n",
    "      end # if\n",
    "    end # while\n",
    "\n",
    "    # Either left or right could still have elements\n",
    "    while (not left.empty?)\n",
    "      result.push(left.first)\n",
    "      left.shift\n",
    "    end\n",
    "    while (not right.empty?)\n",
    "      result.push(right.first)\n",
    "      right.shift\n",
    "    end\n",
    "\n",
    "    return result\n",
    "  end # def\n",
    "\n",
    "end # class"
   ]
  },
  {
   "cell_type": "code",
   "execution_count": 35,
   "metadata": {
    "collapsed": false
   },
   "outputs": [
    {
     "name": "stdout",
     "output_type": "stream",
     "text": [
      "Original: [4315, 3930, 832, 2607, 1321]\n",
      "Sorted: [832, 1321, 2607, 3930, 4315]\n"
     ]
    }
   ],
   "source": [
    "# Create an array and call sorting algorithm\n",
    "length = 5\n",
    "randomArray = Array.new\n",
    "for i in 0..length-1\n",
    "  randomArray.push(rand(1..5000))\n",
    "end\n",
    "puts \"Original: #{randomArray}\"\n",
    "items = Items.new(randomArray)\n",
    "sortedArray = Array.new\n",
    "sortedArray = items.sort\n",
    "puts \"Sorted: #{sortedArray}\"\n"
   ]
  },
  {
   "cell_type": "markdown",
   "metadata": {},
   "source": [
    "We'll now invoke the merge sort with different sizes of arrays, starting with a 200 element array and going all the way to 10,000 in increments of 200 (same as two previous times)."
   ]
  },
  {
   "cell_type": "code",
   "execution_count": 43,
   "metadata": {
    "collapsed": false,
    "scrolled": false
   },
   "outputs": [
    {
     "name": "stdout",
     "output_type": "stream",
     "text": [
      "All results: [#<OpenStruct x=200, y=0.0016207029984798282>, #<OpenStruct x=400, y=0.00402184302220121>, #<OpenStruct x=600, y=0.012320469977566972>, #<OpenStruct x=800, y=0.011922215984668583>, #<OpenStruct x=1000, y=0.010500729986233637>, #<OpenStruct x=1200, y=0.0103176629927475>, #<OpenStruct x=1400, y=0.015874815988354385>, #<OpenStruct x=1600, y=0.013930457993410528>, #<OpenStruct x=1800, y=0.015450628008693457>, #<OpenStruct x=2000, y=0.022222273983061314>, #<OpenStruct x=2200, y=0.0235704239748884>, #<OpenStruct x=2400, y=0.020063809992279857>, #<OpenStruct x=2600, y=0.02233466799953021>, #<OpenStruct x=2800, y=0.02401875698706135>, #<OpenStruct x=3000, y=0.027248558006249368>, #<OpenStruct x=3200, y=0.0297454800165724>, #<OpenStruct x=3400, y=0.03038690600078553>, #<OpenStruct x=3600, y=0.03381249698577449>, #<OpenStruct x=3800, y=0.03785230900393799>, #<OpenStruct x=4000, y=0.03875245197559707>, #<OpenStruct x=4200, y=0.040238682995550334>, #<OpenStruct x=4400, y=0.04263740699389018>, #<OpenStruct x=4600, y=0.045482524001272395>, #<OpenStruct x=4800, y=0.04307080199941993>, #<OpenStruct x=5000, y=0.04693572499672882>, #<OpenStruct x=5200, y=0.04799798098974861>, #<OpenStruct x=5400, y=0.05296102399006486>, #<OpenStruct x=5600, y=0.05468260802445002>, #<OpenStruct x=5800, y=0.055181818024721>, #<OpenStruct x=6000, y=0.05899086900171824>, #<OpenStruct x=6200, y=0.06310512701747939>, #<OpenStruct x=6400, y=0.06061456399038434>, #<OpenStruct x=6600, y=0.10720827497425489>, #<OpenStruct x=6800, y=0.07844473200384527>, #<OpenStruct x=7000, y=0.06661495499429293>, #<OpenStruct x=7200, y=0.06615198499639519>, #<OpenStruct x=7400, y=0.08089408700470813>, #<OpenStruct x=7600, y=0.0918387440033257>, #<OpenStruct x=7800, y=0.07539036197704263>, #<OpenStruct x=8000, y=0.08010634299716912>, #<OpenStruct x=8200, y=0.07975827500922605>, #<OpenStruct x=8400, y=0.08132173799094744>, #<OpenStruct x=8600, y=0.1010359049832914>, #<OpenStruct x=8800, y=0.08619044697843492>, #<OpenStruct x=9000, y=0.09356341202510521>, #<OpenStruct x=9200, y=0.08952696100459434>, #<OpenStruct x=9400, y=0.08978794500580989>, #<OpenStruct x=9600, y=0.11852977398666553>, #<OpenStruct x=9800, y=0.1024228000023868>, #<OpenStruct x=10000, y=0.10178596500190906>]\n"
     ]
    }
   ],
   "source": [
    "require 'benchmark'\n",
    "\n",
    "results_m = Array.new\n",
    "# Create several random arrays\n",
    "(200..10_000).step(200) do |length|\n",
    "  randomArray = Array.new\n",
    "  for i in 0..length-1\n",
    "    randomArray.push(rand(1..5000))\n",
    "  end\n",
    "  items = Items.new(randomArray)\n",
    "  sortedArray = Array.new\n",
    "  time = Benchmark.realtime {sortedArray = items.sort}\n",
    "  results_m.push(OpenStruct.new({:x=>length, :y=>time}))\n",
    "end\n",
    "puts \"All results: #{results_m}\"\n",
    "\n"
   ]
  },
  {
   "cell_type": "code",
   "execution_count": 44,
   "metadata": {
    "collapsed": false,
    "scrolled": true
   },
   "outputs": [
    {
     "name": "stdout",
     "output_type": "stream",
     "text": [
      "Total time: 2.61 seconds\n"
     ]
    }
   ],
   "source": [
    "sum = 0\n",
    "results_m.each do |item|\n",
    "  sum += item.to_h[:y]\n",
    "end\n",
    "puts \"Total time: #{sum.round(2)} seconds\""
   ]
  },
  {
   "cell_type": "markdown",
   "metadata": {},
   "source": [
    "## Linux Sort"
   ]
  },
  {
   "cell_type": "markdown",
   "metadata": {},
   "source": [
    "Finally, we'll now run a sort using the Linux sort command with different sizes of arrays, starting with a 200 element array and going all the way to 10,000 in increments of 200. We'll put the random array into a text file to prepare it for sorting and then issue the sort command."
   ]
  },
  {
   "cell_type": "markdown",
   "metadata": {},
   "source": [
    "\n"
   ]
  },
  {
   "cell_type": "code",
   "execution_count": 45,
   "metadata": {
    "collapsed": false,
    "scrolled": true
   },
   "outputs": [
    {
     "name": "stdout",
     "output_type": "stream",
     "text": [
      "All results: [#<OpenStruct x=200, y=0.039558128017233685>, #<OpenStruct x=400, y=0.01094270299654454>, #<OpenStruct x=600, y=0.04244024498621002>, #<OpenStruct x=800, y=0.012120107014197856>, #<OpenStruct x=1000, y=0.0148802479961887>, #<OpenStruct x=1200, y=0.013736373977735639>, #<OpenStruct x=1400, y=0.011868419998791069>, #<OpenStruct x=1600, y=0.011674053006572649>, #<OpenStruct x=1800, y=0.013877223012968898>, #<OpenStruct x=2000, y=0.01372084001195617>, #<OpenStruct x=2200, y=0.012730918999295682>, #<OpenStruct x=2400, y=0.015364599996246397>, #<OpenStruct x=2600, y=0.01500385400140658>, #<OpenStruct x=2800, y=0.013545560999773443>, #<OpenStruct x=3000, y=0.01646075301687233>, #<OpenStruct x=3200, y=0.016950980992987752>, #<OpenStruct x=3400, y=0.016839167015859857>, #<OpenStruct x=3600, y=0.020543888997053728>, #<OpenStruct x=3800, y=0.019039423001231626>, #<OpenStruct x=4000, y=0.018336598994210362>, #<OpenStruct x=4200, y=0.022343201009789482>, #<OpenStruct x=4400, y=0.023842702008550987>, #<OpenStruct x=4600, y=0.02784048899775371>, #<OpenStruct x=4800, y=0.02329104402451776>, #<OpenStruct x=5000, y=0.018140567000955343>, #<OpenStruct x=5200, y=0.019711336004547775>, #<OpenStruct x=5400, y=0.018291500018676743>, #<OpenStruct x=5600, y=0.017600217019207776>, #<OpenStruct x=5800, y=0.02330183601588942>, #<OpenStruct x=6000, y=0.0187004080216866>, #<OpenStruct x=6200, y=0.02277687401510775>, #<OpenStruct x=6400, y=0.024970369995571673>, #<OpenStruct x=6600, y=0.0245558189926669>, #<OpenStruct x=6800, y=0.024605598009657115>, #<OpenStruct x=7000, y=0.021945119980955496>, #<OpenStruct x=7200, y=0.022149048978462815>, #<OpenStruct x=7400, y=0.022196672012796625>, #<OpenStruct x=7600, y=0.022092903993325308>, #<OpenStruct x=7800, y=0.025668702000984922>, #<OpenStruct x=8000, y=0.023120704980101436>, #<OpenStruct x=8200, y=0.025336591992527246>, #<OpenStruct x=8400, y=0.026016524992883205>, #<OpenStruct x=8600, y=0.024231932999100536>, #<OpenStruct x=8800, y=0.02750426300917752>, #<OpenStruct x=9000, y=0.026891977002378553>, #<OpenStruct x=9200, y=0.027008449978893623>, #<OpenStruct x=9400, y=0.026420471986057237>, #<OpenStruct x=9600, y=0.029447081993566826>, #<OpenStruct x=9800, y=0.02913072900264524>, #<OpenStruct x=10000, y=0.03127991801011376>]\n"
     ]
    }
   ],
   "source": [
    "require 'benchmark'\n",
    "\n",
    "results_l = Array.new\n",
    "# Create several random arrays\n",
    "(200..10_000).step(200) do |length|\n",
    "  randomArray = Array.new\n",
    "  for i in 0..length-1\n",
    "    randomArray.push(rand(1..5000))\n",
    "  end\n",
    "  output = File.open(\"sort_in.txt\",\"w\")\n",
    "  length.times {|i| output << randomArray[i] << \"\\n\"}\n",
    "  output.close\n",
    "  time = Benchmark.realtime {response = `cat sort_in.txt | sort -n > sort_out.txt`}\n",
    "  results_l.push(OpenStruct.new({:x=>length, :y=>time}))\n",
    "end\n",
    "puts \"All results: #{results_l}\""
   ]
  },
  {
   "cell_type": "code",
   "execution_count": 46,
   "metadata": {
    "collapsed": false
   },
   "outputs": [
    {
     "name": "stdout",
     "output_type": "stream",
     "text": [
      "Total time: 1.07 seconds\n"
     ]
    }
   ],
   "source": [
    "sum = 0\n",
    "results_l.each do |item|\n",
    "  sum += item.to_h[:y]\n",
    "end\n",
    "puts \"Total time: #{sum.round(2)} seconds\""
   ]
  },
  {
   "cell_type": "markdown",
   "metadata": {},
   "source": [
    "## Resuts"
   ]
  },
  {
   "cell_type": "markdown",
   "metadata": {},
   "source": [
    "The following graph compares the sort results. For clarity, we are omitting the Linux sort. All results for the Linux sort were under 40ms, clearly beating out the other Ruby-written algorithms."
   ]
  },
  {
   "cell_type": "code",
   "execution_count": 48,
   "metadata": {
    "collapsed": false,
    "scrolled": false
   },
   "outputs": [
    {
     "data": {
      "text/html": [
       "<svg xmlns=\"http://www.w3.org/2000/svg\" xmlns:xlink=\"http://www.w3.org/1999/xlink\" font-size=\"10px\" font-family=\"sans-serif\" fill=\"none\" stroke=\"none\" stroke-width=\"1.5\" width=\"630\" height=\"325\">\n",
       "     <g transform=\"translate(20,5)\">\n",
       "          <line shape-rendering=\"crispEdges\" x1=\"0\" y1=\"300.0\" x2=\"600\" y2=\"300.0\" stroke=\"rgb(0,0,0)\" stroke-width=\"1\"/>\n",
       "          <line shape-rendering=\"crispEdges\" x1=\"0\" y1=\"275.0\" x2=\"600\" y2=\"275.0\" stroke=\"rgb(238,238,238)\" stroke-width=\"1\"/>\n",
       "          <line shape-rendering=\"crispEdges\" x1=\"0\" y1=\"250.0\" x2=\"600\" y2=\"250.0\" stroke=\"rgb(238,238,238)\" stroke-width=\"1\"/>\n",
       "          <line shape-rendering=\"crispEdges\" x1=\"0\" y1=\"225.0\" x2=\"600\" y2=\"225.0\" stroke=\"rgb(238,238,238)\" stroke-width=\"1\"/>\n",
       "          <line shape-rendering=\"crispEdges\" x1=\"0\" y1=\"200.0\" x2=\"600\" y2=\"200.0\" stroke=\"rgb(238,238,238)\" stroke-width=\"1\"/>\n",
       "          <line shape-rendering=\"crispEdges\" x1=\"0\" y1=\"175.0\" x2=\"600\" y2=\"175.0\" stroke=\"rgb(238,238,238)\" stroke-width=\"1\"/>\n",
       "          <line shape-rendering=\"crispEdges\" x1=\"0\" y1=\"150.0\" x2=\"600\" y2=\"150.0\" stroke=\"rgb(238,238,238)\" stroke-width=\"1\"/>\n",
       "          <line shape-rendering=\"crispEdges\" x1=\"0\" y1=\"125.0\" x2=\"600\" y2=\"125.0\" stroke=\"rgb(238,238,238)\" stroke-width=\"1\"/>\n",
       "          <line shape-rendering=\"crispEdges\" x1=\"0\" y1=\"100.0\" x2=\"600\" y2=\"100.0\" stroke=\"rgb(238,238,238)\" stroke-width=\"1\"/>\n",
       "          <line shape-rendering=\"crispEdges\" x1=\"0\" y1=\"75.0\" x2=\"600\" y2=\"75.0\" stroke=\"rgb(238,238,238)\" stroke-width=\"1\"/>\n",
       "          <line shape-rendering=\"crispEdges\" x1=\"0\" y1=\"50.0\" x2=\"600\" y2=\"50.0\" stroke=\"rgb(238,238,238)\" stroke-width=\"1\"/>\n",
       "          <line shape-rendering=\"crispEdges\" x1=\"0\" y1=\"25.0\" x2=\"600\" y2=\"25.0\" stroke=\"rgb(238,238,238)\" stroke-width=\"1\"/>\n",
       "          <line shape-rendering=\"crispEdges\" x1=\"0\" y1=\"0.0\" x2=\"600\" y2=\"0.0\" stroke=\"rgb(238,238,238)\" stroke-width=\"1\"/>\n",
       "     </g>\n",
       "     <g transform=\"translate(20,5)\">\n",
       "          <text pointer-events=\"none\" x=\"-3\" dy=\".35em\" transform=\"translate(0,300.0)\" fill=\"rgb(0,0,0)\" text-anchor=\"end\">0</text>\n",
       "          <text pointer-events=\"none\" x=\"-3\" dy=\".35em\" transform=\"translate(0,275.0)\" fill=\"rgb(0,0,0)\" text-anchor=\"end\">2</text>\n",
       "          <text pointer-events=\"none\" x=\"-3\" dy=\".35em\" transform=\"translate(0,250.0)\" fill=\"rgb(0,0,0)\" text-anchor=\"end\">4</text>\n",
       "          <text pointer-events=\"none\" x=\"-3\" dy=\".35em\" transform=\"translate(0,225.0)\" fill=\"rgb(0,0,0)\" text-anchor=\"end\">6</text>\n",
       "          <text pointer-events=\"none\" x=\"-3\" dy=\".35em\" transform=\"translate(0,200.0)\" fill=\"rgb(0,0,0)\" text-anchor=\"end\">8</text>\n",
       "          <text pointer-events=\"none\" x=\"-3\" dy=\".35em\" transform=\"translate(0,175.0)\" fill=\"rgb(0,0,0)\" text-anchor=\"end\">10</text>\n",
       "          <text pointer-events=\"none\" x=\"-3\" dy=\".35em\" transform=\"translate(0,150.0)\" fill=\"rgb(0,0,0)\" text-anchor=\"end\">12</text>\n",
       "          <text pointer-events=\"none\" x=\"-3\" dy=\".35em\" transform=\"translate(0,125.0)\" fill=\"rgb(0,0,0)\" text-anchor=\"end\">14</text>\n",
       "          <text pointer-events=\"none\" x=\"-3\" dy=\".35em\" transform=\"translate(0,100.0)\" fill=\"rgb(0,0,0)\" text-anchor=\"end\">16</text>\n",
       "          <text pointer-events=\"none\" x=\"-3\" dy=\".35em\" transform=\"translate(0,75.0)\" fill=\"rgb(0,0,0)\" text-anchor=\"end\">18</text>\n",
       "          <text pointer-events=\"none\" x=\"-3\" dy=\".35em\" transform=\"translate(0,50.0)\" fill=\"rgb(0,0,0)\" text-anchor=\"end\">20</text>\n",
       "          <text pointer-events=\"none\" x=\"-3\" dy=\".35em\" transform=\"translate(0,25.0)\" fill=\"rgb(0,0,0)\" text-anchor=\"end\">22</text>\n",
       "          <text pointer-events=\"none\" x=\"-3\" dy=\".35em\" transform=\"translate(0,0.0)\" fill=\"rgb(0,0,0)\" text-anchor=\"end\">24</text>\n",
       "     </g>\n",
       "     <g transform=\"translate(20,5)\">\n",
       "          <line shape-rendering=\"crispEdges\" x1=\"48.97959183673469\" y1=\"300\" x2=\"48.97959183673469\" y2=\"305\" stroke=\"rgb(0,0,0)\" stroke-width=\"1\"/>\n",
       "          <line shape-rendering=\"crispEdges\" x1=\"110.20408163265307\" y1=\"300\" x2=\"110.20408163265307\" y2=\"305\" stroke=\"rgb(0,0,0)\" stroke-width=\"1\"/>\n",
       "          <line shape-rendering=\"crispEdges\" x1=\"171.42857142857142\" y1=\"300\" x2=\"171.42857142857142\" y2=\"305\" stroke=\"rgb(0,0,0)\" stroke-width=\"1\"/>\n",
       "          <line shape-rendering=\"crispEdges\" x1=\"232.6530612244898\" y1=\"300\" x2=\"232.6530612244898\" y2=\"305\" stroke=\"rgb(0,0,0)\" stroke-width=\"1\"/>\n",
       "          <line shape-rendering=\"crispEdges\" x1=\"293.87755102040813\" y1=\"300\" x2=\"293.87755102040813\" y2=\"305\" stroke=\"rgb(0,0,0)\" stroke-width=\"1\"/>\n",
       "          <line shape-rendering=\"crispEdges\" x1=\"355.1020408163265\" y1=\"300\" x2=\"355.1020408163265\" y2=\"305\" stroke=\"rgb(0,0,0)\" stroke-width=\"1\"/>\n",
       "          <line shape-rendering=\"crispEdges\" x1=\"416.3265306122449\" y1=\"300\" x2=\"416.3265306122449\" y2=\"305\" stroke=\"rgb(0,0,0)\" stroke-width=\"1\"/>\n",
       "          <line shape-rendering=\"crispEdges\" x1=\"477.55102040816325\" y1=\"300\" x2=\"477.55102040816325\" y2=\"305\" stroke=\"rgb(0,0,0)\" stroke-width=\"1\"/>\n",
       "          <line shape-rendering=\"crispEdges\" x1=\"538.7755102040817\" y1=\"300\" x2=\"538.7755102040817\" y2=\"305\" stroke=\"rgb(0,0,0)\" stroke-width=\"1\"/>\n",
       "          <line shape-rendering=\"crispEdges\" x1=\"600.0\" y1=\"300\" x2=\"600.0\" y2=\"305\" stroke=\"rgb(0,0,0)\" stroke-width=\"1\"/>\n",
       "     </g>\n",
       "     <g transform=\"translate(20,5)\">\n",
       "          <text pointer-events=\"none\" y=\"3\" dy=\".71em\" transform=\"translate(48.97959183673469,305)\" fill=\"rgb(0,0,0)\" text-anchor=\"middle\">1,000</text>\n",
       "          <text pointer-events=\"none\" y=\"3\" dy=\".71em\" transform=\"translate(110.20408163265307,305)\" fill=\"rgb(0,0,0)\" text-anchor=\"middle\">2,000</text>\n",
       "          <text pointer-events=\"none\" y=\"3\" dy=\".71em\" transform=\"translate(171.42857142857142,305)\" fill=\"rgb(0,0,0)\" text-anchor=\"middle\">3,000</text>\n",
       "          <text pointer-events=\"none\" y=\"3\" dy=\".71em\" transform=\"translate(232.6530612244898,305)\" fill=\"rgb(0,0,0)\" text-anchor=\"middle\">4,000</text>\n",
       "          <text pointer-events=\"none\" y=\"3\" dy=\".71em\" transform=\"translate(293.87755102040813,305)\" fill=\"rgb(0,0,0)\" text-anchor=\"middle\">5,000</text>\n",
       "          <text pointer-events=\"none\" y=\"3\" dy=\".71em\" transform=\"translate(355.1020408163265,305)\" fill=\"rgb(0,0,0)\" text-anchor=\"middle\">6,000</text>\n",
       "          <text pointer-events=\"none\" y=\"3\" dy=\".71em\" transform=\"translate(416.3265306122449,305)\" fill=\"rgb(0,0,0)\" text-anchor=\"middle\">7,000</text>\n",
       "          <text pointer-events=\"none\" y=\"3\" dy=\".71em\" transform=\"translate(477.55102040816325,305)\" fill=\"rgb(0,0,0)\" text-anchor=\"middle\">8,000</text>\n",
       "          <text pointer-events=\"none\" y=\"3\" dy=\".71em\" transform=\"translate(538.7755102040817,305)\" fill=\"rgb(0,0,0)\" text-anchor=\"middle\">9,000</text>\n",
       "          <text pointer-events=\"none\" y=\"3\" dy=\".71em\" transform=\"translate(600.0,305)\" fill=\"rgb(0,0,0)\" text-anchor=\"middle\">10,000</text>\n",
       "     </g>\n",
       "     <g transform=\"translate(20,5)\">\n",
       "          <path d=\"M0.0,298.88294870017853L12.244897959183673,298.44750366230437L24.489795918367346,298.0693895124423L36.73469387755102,297.5330160376179L48.97959183673469,296.7450194375706L61.224489795918366,295.57099647483847L73.46938775510203,294.21916602498095L85.71428571428571,292.85685794986784L97.95918367346938,291.2153676248854L110.20408163265307,289.3297238124651L122.44897959183673,287.2890224998846L134.69387755102042,285.5428604374756L146.93877551020407,282.6245261121803L159.18367346938777,280.22455742523016L171.42857142857142,277.8557712374313L183.67346938775512,274.8634756624815L195.91836734693877,270.90809863750474L208.16326530612244,268.01659718751034L220.40816326530614,264.9258677751495L232.6530612244898,260.0733044126391L244.89795918367346,257.145786924797L257.1428571428571,252.71662366233068L269.38775510204084,248.5431686500524L281.6326530612245,242.76333779982815L293.87755102040813,239.72472692496376L306.12244897959187,233.4777295998938L318.36734693877554,228.42400902502413L330.61224489795916,221.7208769250865L342.85714285714283,219.5885163250059L355.1020408163265,211.40610991226276L367.34693877551024,205.8732899500901L379.5918367346939,199.4266705000191L391.83673469387753,191.40082413743949L404.0816326530612,186.73924377492222L416.3265306122449,169.03680317502585L428.57142857142856,172.00121680018492L440.8163265306123,167.0925244498212L453.0612244897959,159.22016242495738L465.3061224489796,141.3733830000856L477.55102040816325,145.99532438753522L489.7959183673469,140.64574716232892L502.04081632653066,126.66890712482564L514.2857142857142,111.01104038736958L526.530612244898,109.79098476220679L538.7755102040817,102.6933715626219L551.0204081632653,88.17141852507484L563.265306122449,86.50391057510569L575.5102040816327,68.51438997493824L587.7551020408163,44.54491761227837L600.0,57.24034281249624L600.0,299.0L587.7551020408163,299.0L575.5102040816327,299.0L563.265306122449,299.0L551.0204081632653,299.0L538.7755102040817,299.0L526.530612244898,299.0L514.2857142857142,299.0L502.04081632653066,299.0L489.7959183673469,299.0L477.55102040816325,299.0L465.3061224489796,299.0L453.0612244897959,299.0L440.8163265306123,299.0L428.57142857142856,299.0L416.3265306122449,299.0L404.0816326530612,299.0L391.83673469387753,299.0L379.5918367346939,299.0L367.34693877551024,299.0L355.1020408163265,299.0L342.85714285714283,299.0L330.61224489795916,299.0L318.36734693877554,299.0L306.12244897959187,299.0L293.87755102040813,299.0L281.6326530612245,299.0L269.38775510204084,299.0L257.1428571428571,299.0L244.89795918367346,299.0L232.6530612244898,299.0L220.40816326530614,299.0L208.16326530612244,299.0L195.91836734693877,299.0L183.67346938775512,299.0L171.42857142857142,299.0L159.18367346938777,299.0L146.93877551020407,299.0L134.69387755102042,299.0L122.44897959183673,299.0L110.20408163265307,299.0L97.95918367346938,299.0L85.71428571428571,299.0L73.46938775510203,299.0L61.224489795918366,299.0L48.97959183673469,299.0L36.73469387755102,299.0L24.489795918367346,299.0L12.244897959183673,299.0L0.0,299.0Z\" fill=\"null\"/>\n",
       "     </g>\n",
       "     <g transform=\"translate(20,5)\">\n",
       "          <path d=\"M0.0,298.88294870017853L12.244897959183673,298.44750366230437L24.489795918367346,298.0693895124423L36.73469387755102,297.5330160376179L48.97959183673469,296.7450194375706L61.224489795918366,295.57099647483847L73.46938775510203,294.21916602498095L85.71428571428571,292.85685794986784L97.95918367346938,291.2153676248854L110.20408163265307,289.3297238124651L122.44897959183673,287.2890224998846L134.69387755102042,285.5428604374756L146.93877551020407,282.6245261121803L159.18367346938777,280.22455742523016L171.42857142857142,277.8557712374313L183.67346938775512,274.8634756624815L195.91836734693877,270.90809863750474L208.16326530612244,268.01659718751034L220.40816326530614,264.9258677751495L232.6530612244898,260.0733044126391L244.89795918367346,257.145786924797L257.1428571428571,252.71662366233068L269.38775510204084,248.5431686500524L281.6326530612245,242.76333779982815L293.87755102040813,239.72472692496376L306.12244897959187,233.4777295998938L318.36734693877554,228.42400902502413L330.61224489795916,221.7208769250865L342.85714285714283,219.5885163250059L355.1020408163265,211.40610991226276L367.34693877551024,205.8732899500901L379.5918367346939,199.4266705000191L391.83673469387753,191.40082413743949L404.0816326530612,186.73924377492222L416.3265306122449,169.03680317502585L428.57142857142856,172.00121680018492L440.8163265306123,167.0925244498212L453.0612244897959,159.22016242495738L465.3061224489796,141.3733830000856L477.55102040816325,145.99532438753522L489.7959183673469,140.64574716232892L502.04081632653066,126.66890712482564L514.2857142857142,111.01104038736958L526.530612244898,109.79098476220679L538.7755102040817,102.6933715626219L551.0204081632653,88.17141852507484L563.265306122449,86.50391057510569L575.5102040816327,68.51438997493824L587.7551020408163,44.54491761227837L600.0,57.24034281249624\" fill=\"none\" stroke=\"rgb(1,110,210)\" stroke-dasharray=\"\" stroke-width=\"3\"/>\n",
       "     </g>\n",
       "     <g transform=\"translate(20,5)\">\n",
       "          <text pointer-events=\"none\" x=\"3\" y=\"-3\" transform=\"translate(477.55102040816325,58.24034281249624)\" fill=\"rgb(1,110,210)\" style=\"font:14px arial\">bubble sort</text>\n",
       "     </g>\n",
       "     <g transform=\"translate(20,5)\">\n",
       "          <text pointer-events=\"none\" x=\"3\" y=\"-3\" transform=\"translate(477.55102040816325,58.24034281249624)\" fill=\"rgb(1,110,210)\" style=\"font:14px arial\">bubble sort</text>\n",
       "     </g>\n",
       "     <g transform=\"translate(20,5)\">\n",
       "          <path d=\"M0.0,298.98688744999527L12.244897959183673,298.686482737161L24.489795918367346,298.82777168734174L36.73469387755102,298.76240607502405L48.97959183673469,298.60515431230306L61.224489795918366,298.441625424879L73.46938775510203,298.2236578123993L85.71428571428571,298.02345259979484L97.95918367346938,297.8215008877887L110.20408163265307,297.37299132486805L122.44897959183673,297.0380980498012L134.69387755102042,296.64833920016827L146.93877551020407,296.43587352495524L159.18367346938777,296.1660011626227L171.42857142857142,295.665973600102L183.67346938775512,295.1859121500311L195.91836734693877,294.67859406233765L208.16326530612244,294.24049488718447L220.40816326530614,293.70594333761255L232.6530612244898,292.969958512389L244.89795918367346,292.4512488249311L257.1428571428571,292.01139563722245L269.38775510204084,291.24428633751813L281.6326530612245,290.6717389874975L293.87755102040813,289.5877245000738L306.12244897959187,288.76045227500435L318.36734693877554,288.12832647511095L330.61224489795916,287.16925362516486L342.85714285714283,286.61813571254606L355.1020408163265,285.7387366499315L367.34693877551024,284.5299284499779L379.5918367346939,284.0891955251427L391.83673469387753,282.8551420500153L404.0816326530612,281.7573407252203L416.3265306122449,280.56960938758857L428.57142857142856,279.78065126246656L440.8163265306123,278.75288767520397L453.0612244897959,277.0526683625794L465.3061224489796,275.93395088754187L477.55102040816325,275.09537558746524L489.7959183673469,274.1093056122045L502.04081632653066,272.06715928752965L514.2857142857142,271.20123671249894L526.530612244898,270.0378860872879L538.7755102040817,268.51008147516404L551.0204081632653,266.5947531373822L563.265306122449,265.9969993625273L575.5102040816327,263.97890886239475L587.7551020408163,263.68271372505114L600.0,261.8932216000976L600.0,299.0L587.7551020408163,299.0L575.5102040816327,299.0L563.265306122449,299.0L551.0204081632653,299.0L538.7755102040817,299.0L526.530612244898,299.0L514.2857142857142,299.0L502.04081632653066,299.0L489.7959183673469,299.0L477.55102040816325,299.0L465.3061224489796,299.0L453.0612244897959,299.0L440.8163265306123,299.0L428.57142857142856,299.0L416.3265306122449,299.0L404.0816326530612,299.0L391.83673469387753,299.0L379.5918367346939,299.0L367.34693877551024,299.0L355.1020408163265,299.0L342.85714285714283,299.0L330.61224489795916,299.0L318.36734693877554,299.0L306.12244897959187,299.0L293.87755102040813,299.0L281.6326530612245,299.0L269.38775510204084,299.0L257.1428571428571,299.0L244.89795918367346,299.0L232.6530612244898,299.0L220.40816326530614,299.0L208.16326530612244,299.0L195.91836734693877,299.0L183.67346938775512,299.0L171.42857142857142,299.0L159.18367346938777,299.0L146.93877551020407,299.0L134.69387755102042,299.0L122.44897959183673,299.0L110.20408163265307,299.0L97.95918367346938,299.0L85.71428571428571,299.0L73.46938775510203,299.0L61.224489795918366,299.0L48.97959183673469,299.0L36.73469387755102,299.0L24.489795918367346,299.0L12.244897959183673,299.0L0.0,299.0Z\" fill=\"null\"/>\n",
       "     </g>\n",
       "     <g transform=\"translate(20,5)\">\n",
       "          <path d=\"M0.0,298.98688744999527L12.244897959183673,298.686482737161L24.489795918367346,298.82777168734174L36.73469387755102,298.76240607502405L48.97959183673469,298.60515431230306L61.224489795918366,298.441625424879L73.46938775510203,298.2236578123993L85.71428571428571,298.02345259979484L97.95918367346938,297.8215008877887L110.20408163265307,297.37299132486805L122.44897959183673,297.0380980498012L134.69387755102042,296.64833920016827L146.93877551020407,296.43587352495524L159.18367346938777,296.1660011626227L171.42857142857142,295.665973600102L183.67346938775512,295.1859121500311L195.91836734693877,294.67859406233765L208.16326530612244,294.24049488718447L220.40816326530614,293.70594333761255L232.6530612244898,292.969958512389L244.89795918367346,292.4512488249311L257.1428571428571,292.01139563722245L269.38775510204084,291.24428633751813L281.6326530612245,290.6717389874975L293.87755102040813,289.5877245000738L306.12244897959187,288.76045227500435L318.36734693877554,288.12832647511095L330.61224489795916,287.16925362516486L342.85714285714283,286.61813571254606L355.1020408163265,285.7387366499315L367.34693877551024,284.5299284499779L379.5918367346939,284.0891955251427L391.83673469387753,282.8551420500153L404.0816326530612,281.7573407252203L416.3265306122449,280.56960938758857L428.57142857142856,279.78065126246656L440.8163265306123,278.75288767520397L453.0612244897959,277.0526683625794L465.3061224489796,275.93395088754187L477.55102040816325,275.09537558746524L489.7959183673469,274.1093056122045L502.04081632653066,272.06715928752965L514.2857142857142,271.20123671249894L526.530612244898,270.0378860872879L538.7755102040817,268.51008147516404L551.0204081632653,266.5947531373822L563.265306122449,265.9969993625273L575.5102040816327,263.97890886239475L587.7551020408163,263.68271372505114L600.0,261.8932216000976\" fill=\"none\" stroke=\"rgb(1,7,210)\" stroke-dasharray=\"\" stroke-width=\"3\"/>\n",
       "     </g>\n",
       "     <g transform=\"translate(20,5)\">\n",
       "          <text pointer-events=\"none\" x=\"3\" y=\"-3\" transform=\"translate(477.55102040816325,262.8932216000976)\" fill=\"rgb(1,7,210)\" style=\"font:14px arial\">insertion sort</text>\n",
       "     </g>\n",
       "     <g transform=\"translate(20,5)\">\n",
       "          <text pointer-events=\"none\" x=\"3\" y=\"-3\" transform=\"translate(477.55102040816325,262.8932216000976)\" fill=\"rgb(1,7,210)\" style=\"font:14px arial\">insertion sort</text>\n",
       "     </g>\n",
       "     <g transform=\"translate(20,5)\">\n",
       "          <path d=\"M0.0,298.979741212519L12.244897959183673,298.9497269622225L24.489795918367346,298.8459941252804L36.73469387755102,298.85097230019164L48.97959183673469,298.8687408751721L61.224489795918366,298.87102921259066L73.46938775510203,298.80156480014557L85.71428571428571,298.82586927508237L97.95918367346938,298.80686714989133L110.20408163265307,298.72222157521173L122.44897959183673,298.7053697003139L134.69387755102042,298.7492023750965L146.93877551020407,298.7208166500059L159.18367346938777,298.69976553766173L171.42857142857142,298.6593930249219L183.67346938775512,298.62818149979284L195.91836734693877,298.6201636749902L208.16326530612244,298.5773437876778L220.40816326530614,298.5268461374508L232.6530612244898,298.51559435030504L244.89795918367346,298.4970164625556L257.1428571428571,298.4670324125764L269.38775510204084,298.4314684499841L281.6326530612245,298.46161497500725L293.87755102040813,298.4133034375409L306.12244897959187,298.40002523762814L318.36734693877554,298.3379872001242L330.61224489795916,298.3164673996944L342.85714285714283,298.310227274691L355.1020408163265,298.2626141374785L367.34693877551024,298.2111859122815L379.5918367346939,298.2423179501202L391.83673469387753,297.6598965628218L404.0816326530612,298.01944084995193L416.3265306122449,298.16731306257134L428.57142857142856,298.17310018754506L440.8163265306123,297.98882391244115L453.0612244897959,297.85201569995843L465.3061224489796,298.05762047528697L477.55102040816325,297.9986707125354L489.7959183673469,298.0030215623847L502.04081632653066,297.98347827511316L514.2857142857142,297.73705118770886L526.530612244898,297.92261941276956L538.7755102040817,297.8304573496862L551.0204081632653,297.88091298744257L563.265306122449,297.8776506874274L575.5102040816327,297.5183778251667L587.7551020408163,297.71971499997017L600.0,297.72767543747614L600.0,299.0L587.7551020408163,299.0L575.5102040816327,299.0L563.265306122449,299.0L551.0204081632653,299.0L538.7755102040817,299.0L526.530612244898,299.0L514.2857142857142,299.0L502.04081632653066,299.0L489.7959183673469,299.0L477.55102040816325,299.0L465.3061224489796,299.0L453.0612244897959,299.0L440.8163265306123,299.0L428.57142857142856,299.0L416.3265306122449,299.0L404.0816326530612,299.0L391.83673469387753,299.0L379.5918367346939,299.0L367.34693877551024,299.0L355.1020408163265,299.0L342.85714285714283,299.0L330.61224489795916,299.0L318.36734693877554,299.0L306.12244897959187,299.0L293.87755102040813,299.0L281.6326530612245,299.0L269.38775510204084,299.0L257.1428571428571,299.0L244.89795918367346,299.0L232.6530612244898,299.0L220.40816326530614,299.0L208.16326530612244,299.0L195.91836734693877,299.0L183.67346938775512,299.0L171.42857142857142,299.0L159.18367346938777,299.0L146.93877551020407,299.0L134.69387755102042,299.0L122.44897959183673,299.0L110.20408163265307,299.0L97.95918367346938,299.0L85.71428571428571,299.0L73.46938775510203,299.0L61.224489795918366,299.0L48.97959183673469,299.0L36.73469387755102,299.0L24.489795918367346,299.0L12.244897959183673,299.0L0.0,299.0Z\" fill=\"null\"/>\n",
       "     </g>\n",
       "     <g transform=\"translate(20,5)\">\n",
       "          <path d=\"M0.0,298.979741212519L12.244897959183673,298.9497269622225L24.489795918367346,298.8459941252804L36.73469387755102,298.85097230019164L48.97959183673469,298.8687408751721L61.224489795918366,298.87102921259066L73.46938775510203,298.80156480014557L85.71428571428571,298.82586927508237L97.95918367346938,298.80686714989133L110.20408163265307,298.72222157521173L122.44897959183673,298.7053697003139L134.69387755102042,298.7492023750965L146.93877551020407,298.7208166500059L159.18367346938777,298.69976553766173L171.42857142857142,298.6593930249219L183.67346938775512,298.62818149979284L195.91836734693877,298.6201636749902L208.16326530612244,298.5773437876778L220.40816326530614,298.5268461374508L232.6530612244898,298.51559435030504L244.89795918367346,298.4970164625556L257.1428571428571,298.4670324125764L269.38775510204084,298.4314684499841L281.6326530612245,298.46161497500725L293.87755102040813,298.4133034375409L306.12244897959187,298.40002523762814L318.36734693877554,298.3379872001242L330.61224489795916,298.3164673996944L342.85714285714283,298.310227274691L355.1020408163265,298.2626141374785L367.34693877551024,298.2111859122815L379.5918367346939,298.2423179501202L391.83673469387753,297.6598965628218L404.0816326530612,298.01944084995193L416.3265306122449,298.16731306257134L428.57142857142856,298.17310018754506L440.8163265306123,297.98882391244115L453.0612244897959,297.85201569995843L465.3061224489796,298.05762047528697L477.55102040816325,297.9986707125354L489.7959183673469,298.0030215623847L502.04081632653066,297.98347827511316L514.2857142857142,297.73705118770886L526.530612244898,297.92261941276956L538.7755102040817,297.8304573496862L551.0204081632653,297.88091298744257L563.265306122449,297.8776506874274L575.5102040816327,297.5183778251667L587.7551020408163,297.71971499997017L600.0,297.72767543747614\" fill=\"none\" stroke=\"rgb(112,0,197)\" stroke-dasharray=\"\" stroke-width=\"3\"/>\n",
       "     </g>\n",
       "     <g transform=\"translate(20,5)\">\n",
       "          <text pointer-events=\"none\" x=\"3\" y=\"-3\" transform=\"translate(477.55102040816325,298.72767543747614)\" fill=\"rgb(112,0,197)\" style=\"font:14px arial\">merge sort</text>\n",
       "     </g>\n",
       "     <g transform=\"translate(20,5)\">\n",
       "          <text pointer-events=\"none\" x=\"3\" y=\"-3\" transform=\"translate(477.55102040816325,298.72767543747614)\" fill=\"rgb(112,0,197)\" style=\"font:14px arial\">merge sort</text>\n",
       "     </g>\n",
       "     <g transform=\"translate(20,5)\">\n",
       "          <text pointer-events=\"none\" y=\"-3\" transform=\"translate(300.0,22)\" fill=\"rgb(0,0,0)\" text-anchor=\"middle\" style=\"font:16px sans-serif\">Sort Speed vs Array Length</text>\n",
       "     </g>\n",
       "</svg>"
      ],
      "text/plain": [
       "\"<svg xmlns=\\\"http://www.w3.org/2000/svg\\\" xmlns:xlink=\\\"http://www.w3.org/1999/xlink\\\" font-size=\\\"10px\\\" font-family=\\\"sans-serif\\\" fill=\\\"none\\\" stroke=\\\"none\\\" stroke-width=\\\"1.5\\\" width=\\\"630\\\" height=\\\"325\\\">\\n     <g transform=\\\"translate(20,5)\\\">\\n          <line shape-rendering=\\\"crispEdges\\\" x1=\\\"0\\\" y1=\\\"300.0\\\" x2=\\\"600\\\" y2=\\\"300.0\\\" stroke=\\\"rgb(0,0,0)\\\" stroke-width=\\\"1\\\"/>\\n          <line shape-rendering=\\\"crispEdges\\\" x1=\\\"0\\\" y1=\\\"275.0\\\" x2=\\\"600\\\" y2=\\\"275.0\\\" stroke=\\\"rgb(238,238,238)\\\" stroke-width=\\\"1\\\"/>\\n          <line shape-rendering=\\\"crispEdges\\\" x1=\\\"0\\\" y1=\\\"250.0\\\" x2=\\\"600\\\" y2=\\\"250.0\\\" stroke=\\\"rgb(238,238,238)\\\" stroke-width=\\\"1\\\"/>\\n          <line shape-rendering=\\\"crispEdges\\\" x1=\\\"0\\\" y1=\\\"225.0\\\" x2=\\\"600\\\" y2=\\\"225.0\\\" stroke=\\\"rgb(238,238,238)\\\" stroke-width=\\\"1\\\"/>\\n          <line shape-rendering=\\\"crispEdges\\\" x1=\\\"0\\\" y1=\\\"200.0\\\" x2=\\\"600\\\" y2=\\\"200.0\\\" stroke=\\\"rgb(238,238,238)\\\" stroke-width=\\\"1\\\"/>\\n          <line shape-rendering=\\\"crispEdges\\\" x1=\\\"0\\\" y1=\\\"175.0\\\" x2=\\\"600\\\" y2=\\\"175.0\\\" stroke=\\\"rgb(238,238,238)\\\" stroke-width=\\\"1\\\"/>\\n          <line shape-rendering=\\\"crispEdges\\\" x1=\\\"0\\\" y1=\\\"150.0\\\" x2=\\\"600\\\" y2=\\\"150.0\\\" stroke=\\\"rgb(238,238,238)\\\" stroke-width=\\\"1\\\"/>\\n          <line shape-rendering=\\\"crispEdges\\\" x1=\\\"0\\\" y1=\\\"125.0\\\" x2=\\\"600\\\" y2=\\\"125.0\\\" stroke=\\\"rgb(238,238,238)\\\" stroke-width=\\\"1\\\"/>\\n          <line shape-rendering=\\\"crispEdges\\\" x1=\\\"0\\\" y1=\\\"100.0\\\" x2=\\\"600\\\" y2=\\\"100.0\\\" stroke=\\\"rgb(238,238,238)\\\" stroke-width=\\\"1\\\"/>\\n          <line shape-rendering=\\\"crispEdges\\\" x1=\\\"0\\\" y1=\\\"75.0\\\" x2=\\\"600\\\" y2=\\\"75.0\\\" stroke=\\\"rgb(238,238,238)\\\" stroke-width=\\\"1\\\"/>\\n          <line shape-rendering=\\\"crispEdges\\\" x1=\\\"0\\\" y1=\\\"50.0\\\" x2=\\\"600\\\" y2=\\\"50.0\\\" stroke=\\\"rgb(238,238,238)\\\" stroke-width=\\\"1\\\"/>\\n          <line shape-rendering=\\\"crispEdges\\\" x1=\\\"0\\\" y1=\\\"25.0\\\" x2=\\\"600\\\" y2=\\\"25.0\\\" stroke=\\\"rgb(238,238,238)\\\" stroke-width=\\\"1\\\"/>\\n          <line shape-rendering=\\\"crispEdges\\\" x1=\\\"0\\\" y1=\\\"0.0\\\" x2=\\\"600\\\" y2=\\\"0.0\\\" stroke=\\\"rgb(238,238,238)\\\" stroke-width=\\\"1\\\"/>\\n     </g>\\n     <g transform=\\\"translate(20,5)\\\">\\n          <text pointer-events=\\\"none\\\" x=\\\"-3\\\" dy=\\\".35em\\\" transform=\\\"translate(0,300.0)\\\" fill=\\\"rgb(0,0,0)\\\" text-anchor=\\\"end\\\">0</text>\\n          <text pointer-events=\\\"none\\\" x=\\\"-3\\\" dy=\\\".35em\\\" transform=\\\"translate(0,275.0)\\\" fill=\\\"rgb(0,0,0)\\\" text-anchor=\\\"end\\\">2</text>\\n          <text pointer-events=\\\"none\\\" x=\\\"-3\\\" dy=\\\".35em\\\" transform=\\\"translate(0,250.0)\\\" fill=\\\"rgb(0,0,0)\\\" text-anchor=\\\"end\\\">4</text>\\n          <text pointer-events=\\\"none\\\" x=\\\"-3\\\" dy=\\\".35em\\\" transform=\\\"translate(0,225.0)\\\" fill=\\\"rgb(0,0,0)\\\" text-anchor=\\\"end\\\">6</text>\\n          <text pointer-events=\\\"none\\\" x=\\\"-3\\\" dy=\\\".35em\\\" transform=\\\"translate(0,200.0)\\\" fill=\\\"rgb(0,0,0)\\\" text-anchor=\\\"end\\\">8</text>\\n          <text pointer-events=\\\"none\\\" x=\\\"-3\\\" dy=\\\".35em\\\" transform=\\\"translate(0,175.0)\\\" fill=\\\"rgb(0,0,0)\\\" text-anchor=\\\"end\\\">10</text>\\n          <text pointer-events=\\\"none\\\" x=\\\"-3\\\" dy=\\\".35em\\\" transform=\\\"translate(0,150.0)\\\" fill=\\\"rgb(0,0,0)\\\" text-anchor=\\\"end\\\">12</text>\\n          <text pointer-events=\\\"none\\\" x=\\\"-3\\\" dy=\\\".35em\\\" transform=\\\"translate(0,125.0)\\\" fill=\\\"rgb(0,0,0)\\\" text-anchor=\\\"end\\\">14</text>\\n          <text pointer-events=\\\"none\\\" x=\\\"-3\\\" dy=\\\".35em\\\" transform=\\\"translate(0,100.0)\\\" fill=\\\"rgb(0,0,0)\\\" text-anchor=\\\"end\\\">16</text>\\n          <text pointer-events=\\\"none\\\" x=\\\"-3\\\" dy=\\\".35em\\\" transform=\\\"translate(0,75.0)\\\" fill=\\\"rgb(0,0,0)\\\" text-anchor=\\\"end\\\">18</text>\\n          <text pointer-events=\\\"none\\\" x=\\\"-3\\\" dy=\\\".35em\\\" transform=\\\"translate(0,50.0)\\\" fill=\\\"rgb(0,0,0)\\\" text-anchor=\\\"end\\\">20</text>\\n          <text pointer-events=\\\"none\\\" x=\\\"-3\\\" dy=\\\".35em\\\" transform=\\\"translate(0,25.0)\\\" fill=\\\"rgb(0,0,0)\\\" text-anchor=\\\"end\\\">22</text>\\n          <text pointer-events=\\\"none\\\" x=\\\"-3\\\" dy=\\\".35em\\\" transform=\\\"translate(0,0.0)\\\" fill=\\\"rgb(0,0,0)\\\" text-anchor=\\\"end\\\">24</text>\\n     </g>\\n     <g transform=\\\"translate(20,5)\\\">\\n          <line shape-rendering=\\\"crispEdges\\\" x1=\\\"48.97959183673469\\\" y1=\\\"300\\\" x2=\\\"48.97959183673469\\\" y2=\\\"305\\\" stroke=\\\"rgb(0,0,0)\\\" stroke-width=\\\"1\\\"/>\\n          <line shape-rendering=\\\"crispEdges\\\" x1=\\\"110.20408163265307\\\" y1=\\\"300\\\" x2=\\\"110.20408163265307\\\" y2=\\\"305\\\" stroke=\\\"rgb(0,0,0)\\\" stroke-width=\\\"1\\\"/>\\n          <line shape-rendering=\\\"crispEdges\\\" x1=\\\"171.42857142857142\\\" y1=\\\"300\\\" x2=\\\"171.42857142857142\\\" y2=\\\"305\\\" stroke=\\\"rgb(0,0,0)\\\" stroke-width=\\\"1\\\"/>\\n          <line shape-rendering=\\\"crispEdges\\\" x1=\\\"232.6530612244898\\\" y1=\\\"300\\\" x2=\\\"232.6530612244898\\\" y2=\\\"305\\\" stroke=\\\"rgb(0,0,0)\\\" stroke-width=\\\"1\\\"/>\\n          <line shape-rendering=\\\"crispEdges\\\" x1=\\\"293.87755102040813\\\" y1=\\\"300\\\" x2=\\\"293.87755102040813\\\" y2=\\\"305\\\" stroke=\\\"rgb(0,0,0)\\\" stroke-width=\\\"1\\\"/>\\n          <line shape-rendering=\\\"crispEdges\\\" x1=\\\"355.1020408163265\\\" y1=\\\"300\\\" x2=\\\"355.1020408163265\\\" y2=\\\"305\\\" stroke=\\\"rgb(0,0,0)\\\" stroke-width=\\\"1\\\"/>\\n          <line shape-rendering=\\\"crispEdges\\\" x1=\\\"416.3265306122449\\\" y1=\\\"300\\\" x2=\\\"416.3265306122449\\\" y2=\\\"305\\\" stroke=\\\"rgb(0,0,0)\\\" stroke-width=\\\"1\\\"/>\\n          <line shape-rendering=\\\"crispEdges\\\" x1=\\\"477.55102040816325\\\" y1=\\\"300\\\" x2=\\\"477.55102040816325\\\" y2=\\\"305\\\" stroke=\\\"rgb(0,0,0)\\\" stroke-width=\\\"1\\\"/>\\n          <line shape-rendering=\\\"crispEdges\\\" x1=\\\"538.7755102040817\\\" y1=\\\"300\\\" x2=\\\"538.7755102040817\\\" y2=\\\"305\\\" stroke=\\\"rgb(0,0,0)\\\" stroke-width=\\\"1\\\"/>\\n          <line shape-rendering=\\\"crispEdges\\\" x1=\\\"600.0\\\" y1=\\\"300\\\" x2=\\\"600.0\\\" y2=\\\"305\\\" stroke=\\\"rgb(0,0,0)\\\" stroke-width=\\\"1\\\"/>\\n     </g>\\n     <g transform=\\\"translate(20,5)\\\">\\n          <text pointer-events=\\\"none\\\" y=\\\"3\\\" dy=\\\".71em\\\" transform=\\\"translate(48.97959183673469,305)\\\" fill=\\\"rgb(0,0,0)\\\" text-anchor=\\\"middle\\\">1,000</text>\\n          <text pointer-events=\\\"none\\\" y=\\\"3\\\" dy=\\\".71em\\\" transform=\\\"translate(110.20408163265307,305)\\\" fill=\\\"rgb(0,0,0)\\\" text-anchor=\\\"middle\\\">2,000</text>\\n          <text pointer-events=\\\"none\\\" y=\\\"3\\\" dy=\\\".71em\\\" transform=\\\"translate(171.42857142857142,305)\\\" fill=\\\"rgb(0,0,0)\\\" text-anchor=\\\"middle\\\">3,000</text>\\n          <text pointer-events=\\\"none\\\" y=\\\"3\\\" dy=\\\".71em\\\" transform=\\\"translate(232.6530612244898,305)\\\" fill=\\\"rgb(0,0,0)\\\" text-anchor=\\\"middle\\\">4,000</text>\\n          <text pointer-events=\\\"none\\\" y=\\\"3\\\" dy=\\\".71em\\\" transform=\\\"translate(293.87755102040813,305)\\\" fill=\\\"rgb(0,0,0)\\\" text-anchor=\\\"middle\\\">5,000</text>\\n          <text pointer-events=\\\"none\\\" y=\\\"3\\\" dy=\\\".71em\\\" transform=\\\"translate(355.1020408163265,305)\\\" fill=\\\"rgb(0,0,0)\\\" text-anchor=\\\"middle\\\">6,000</text>\\n          <text pointer-events=\\\"none\\\" y=\\\"3\\\" dy=\\\".71em\\\" transform=\\\"translate(416.3265306122449,305)\\\" fill=\\\"rgb(0,0,0)\\\" text-anchor=\\\"middle\\\">7,000</text>\\n          <text pointer-events=\\\"none\\\" y=\\\"3\\\" dy=\\\".71em\\\" transform=\\\"translate(477.55102040816325,305)\\\" fill=\\\"rgb(0,0,0)\\\" text-anchor=\\\"middle\\\">8,000</text>\\n          <text pointer-events=\\\"none\\\" y=\\\"3\\\" dy=\\\".71em\\\" transform=\\\"translate(538.7755102040817,305)\\\" fill=\\\"rgb(0,0,0)\\\" text-anchor=\\\"middle\\\">9,000</text>\\n          <text pointer-events=\\\"none\\\" y=\\\"3\\\" dy=\\\".71em\\\" transform=\\\"translate(600.0,305)\\\" fill=\\\"rgb(0,0,0)\\\" text-anchor=\\\"middle\\\">10,000</text>\\n     </g>\\n     <g transform=\\\"translate(20,5)\\\">\\n          <path d=\\\"M0.0,298.88294870017853L12.244897959183673,298.44750366230437L24.489795918367346,298.0693895124423L36.73469387755102,297.5330160376179L48.97959183673469,296.7450194375706L61.224489795918366,295.57099647483847L73.46938775510203,294.21916602498095L85.71428571428571,292.85685794986784L97.95918367346938,291.2153676248854L110.20408163265307,289.3297238124651L122.44897959183673,287.2890224998846L134.69387755102042,285.5428604374756L146.93877551020407,282.6245261121803L159.18367346938777,280.22455742523016L171.42857142857142,277.8557712374313L183.67346938775512,274.8634756624815L195.91836734693877,270.90809863750474L208.16326530612244,268.01659718751034L220.40816326530614,264.9258677751495L232.6530612244898,260.0733044126391L244.89795918367346,257.145786924797L257.1428571428571,252.71662366233068L269.38775510204084,248.5431686500524L281.6326530612245,242.76333779982815L293.87755102040813,239.72472692496376L306.12244897959187,233.4777295998938L318.36734693877554,228.42400902502413L330.61224489795916,221.7208769250865L342.85714285714283,219.5885163250059L355.1020408163265,211.40610991226276L367.34693877551024,205.8732899500901L379.5918367346939,199.4266705000191L391.83673469387753,191.40082413743949L404.0816326530612,186.73924377492222L416.3265306122449,169.03680317502585L428.57142857142856,172.00121680018492L440.8163265306123,167.0925244498212L453.0612244897959,159.22016242495738L465.3061224489796,141.3733830000856L477.55102040816325,145.99532438753522L489.7959183673469,140.64574716232892L502.04081632653066,126.66890712482564L514.2857142857142,111.01104038736958L526.530612244898,109.79098476220679L538.7755102040817,102.6933715626219L551.0204081632653,88.17141852507484L563.265306122449,86.50391057510569L575.5102040816327,68.51438997493824L587.7551020408163,44.54491761227837L600.0,57.24034281249624L600.0,299.0L587.7551020408163,299.0L575.5102040816327,299.0L563.265306122449,299.0L551.0204081632653,299.0L538.7755102040817,299.0L526.530612244898,299.0L514.2857142857142,299.0L502.04081632653066,299.0L489.7959183673469,299.0L477.55102040816325,299.0L465.3061224489796,299.0L453.0612244897959,299.0L440.8163265306123,299.0L428.57142857142856,299.0L416.3265306122449,299.0L404.0816326530612,299.0L391.83673469387753,299.0L379.5918367346939,299.0L367.34693877551024,299.0L355.1020408163265,299.0L342.85714285714283,299.0L330.61224489795916,299.0L318.36734693877554,299.0L306.12244897959187,299.0L293.87755102040813,299.0L281.6326530612245,299.0L269.38775510204084,299.0L257.1428571428571,299.0L244.89795918367346,299.0L232.6530612244898,299.0L220.40816326530614,299.0L208.16326530612244,299.0L195.91836734693877,299.0L183.67346938775512,299.0L171.42857142857142,299.0L159.18367346938777,299.0L146.93877551020407,299.0L134.69387755102042,299.0L122.44897959183673,299.0L110.20408163265307,299.0L97.95918367346938,299.0L85.71428571428571,299.0L73.46938775510203,299.0L61.224489795918366,299.0L48.97959183673469,299.0L36.73469387755102,299.0L24.489795918367346,299.0L12.244897959183673,299.0L0.0,299.0Z\\\" fill=\\\"null\\\"/>\\n     </g>\\n     <g transform=\\\"translate(20,5)\\\">\\n          <path d=\\\"M0.0,298.88294870017853L12.244897959183673,298.44750366230437L24.489795918367346,298.0693895124423L36.73469387755102,297.5330160376179L48.97959183673469,296.7450194375706L61.224489795918366,295.57099647483847L73.46938775510203,294.21916602498095L85.71428571428571,292.85685794986784L97.95918367346938,291.2153676248854L110.20408163265307,289.3297238124651L122.44897959183673,287.2890224998846L134.69387755102042,285.5428604374756L146.93877551020407,282.6245261121803L159.18367346938777,280.22455742523016L171.42857142857142,277.8557712374313L183.67346938775512,274.8634756624815L195.91836734693877,270.90809863750474L208.16326530612244,268.01659718751034L220.40816326530614,264.9258677751495L232.6530612244898,260.0733044126391L244.89795918367346,257.145786924797L257.1428571428571,252.71662366233068L269.38775510204084,248.5431686500524L281.6326530612245,242.76333779982815L293.87755102040813,239.72472692496376L306.12244897959187,233.4777295998938L318.36734693877554,228.42400902502413L330.61224489795916,221.7208769250865L342.85714285714283,219.5885163250059L355.1020408163265,211.40610991226276L367.34693877551024,205.8732899500901L379.5918367346939,199.4266705000191L391.83673469387753,191.40082413743949L404.0816326530612,186.73924377492222L416.3265306122449,169.03680317502585L428.57142857142856,172.00121680018492L440.8163265306123,167.0925244498212L453.0612244897959,159.22016242495738L465.3061224489796,141.3733830000856L477.55102040816325,145.99532438753522L489.7959183673469,140.64574716232892L502.04081632653066,126.66890712482564L514.2857142857142,111.01104038736958L526.530612244898,109.79098476220679L538.7755102040817,102.6933715626219L551.0204081632653,88.17141852507484L563.265306122449,86.50391057510569L575.5102040816327,68.51438997493824L587.7551020408163,44.54491761227837L600.0,57.24034281249624\\\" fill=\\\"none\\\" stroke=\\\"rgb(1,110,210)\\\" stroke-dasharray=\\\"\\\" stroke-width=\\\"3\\\"/>\\n     </g>\\n     <g transform=\\\"translate(20,5)\\\">\\n          <text pointer-events=\\\"none\\\" x=\\\"3\\\" y=\\\"-3\\\" transform=\\\"translate(477.55102040816325,58.24034281249624)\\\" fill=\\\"rgb(1,110,210)\\\" style=\\\"font:14px arial\\\">bubble sort</text>\\n     </g>\\n     <g transform=\\\"translate(20,5)\\\">\\n          <text pointer-events=\\\"none\\\" x=\\\"3\\\" y=\\\"-3\\\" transform=\\\"translate(477.55102040816325,58.24034281249624)\\\" fill=\\\"rgb(1,110,210)\\\" style=\\\"font:14px arial\\\">bubble sort</text>\\n     </g>\\n     <g transform=\\\"translate(20,5)\\\">\\n          <path d=\\\"M0.0,298.98688744999527L12.244897959183673,298.686482737161L24.489795918367346,298.82777168734174L36.73469387755102,298.76240607502405L48.97959183673469,298.60515431230306L61.224489795918366,298.441625424879L73.46938775510203,298.2236578123993L85.71428571428571,298.02345259979484L97.95918367346938,297.8215008877887L110.20408163265307,297.37299132486805L122.44897959183673,297.0380980498012L134.69387755102042,296.64833920016827L146.93877551020407,296.43587352495524L159.18367346938777,296.1660011626227L171.42857142857142,295.665973600102L183.67346938775512,295.1859121500311L195.91836734693877,294.67859406233765L208.16326530612244,294.24049488718447L220.40816326530614,293.70594333761255L232.6530612244898,292.969958512389L244.89795918367346,292.4512488249311L257.1428571428571,292.01139563722245L269.38775510204084,291.24428633751813L281.6326530612245,290.6717389874975L293.87755102040813,289.5877245000738L306.12244897959187,288.76045227500435L318.36734693877554,288.12832647511095L330.61224489795916,287.16925362516486L342.85714285714283,286.61813571254606L355.1020408163265,285.7387366499315L367.34693877551024,284.5299284499779L379.5918367346939,284.0891955251427L391.83673469387753,282.8551420500153L404.0816326530612,281.7573407252203L416.3265306122449,280.56960938758857L428.57142857142856,279.78065126246656L440.8163265306123,278.75288767520397L453.0612244897959,277.0526683625794L465.3061224489796,275.93395088754187L477.55102040816325,275.09537558746524L489.7959183673469,274.1093056122045L502.04081632653066,272.06715928752965L514.2857142857142,271.20123671249894L526.530612244898,270.0378860872879L538.7755102040817,268.51008147516404L551.0204081632653,266.5947531373822L563.265306122449,265.9969993625273L575.5102040816327,263.97890886239475L587.7551020408163,263.68271372505114L600.0,261.8932216000976L600.0,299.0L587.7551020408163,299.0L575.5102040816327,299.0L563.265306122449,299.0L551.0204081632653,299.0L538.7755102040817,299.0L526.530612244898,299.0L514.2857142857142,299.0L502.04081632653066,299.0L489.7959183673469,299.0L477.55102040816325,299.0L465.3061224489796,299.0L453.0612244897959,299.0L440.8163265306123,299.0L428.57142857142856,299.0L416.3265306122449,299.0L404.0816326530612,299.0L391.83673469387753,299.0L379.5918367346939,299.0L367.34693877551024,299.0L355.1020408163265,299.0L342.85714285714283,299.0L330.61224489795916,299.0L318.36734693877554,299.0L306.12244897959187,299.0L293.87755102040813,299.0L281.6326530612245,299.0L269.38775510204084,299.0L257.1428571428571,299.0L244.89795918367346,299.0L232.6530612244898,299.0L220.40816326530614,299.0L208.16326530612244,299.0L195.91836734693877,299.0L183.67346938775512,299.0L171.42857142857142,299.0L159.18367346938777,299.0L146.93877551020407,299.0L134.69387755102042,299.0L122.44897959183673,299.0L110.20408163265307,299.0L97.95918367346938,299.0L85.71428571428571,299.0L73.46938775510203,299.0L61.224489795918366,299.0L48.97959183673469,299.0L36.73469387755102,299.0L24.489795918367346,299.0L12.244897959183673,299.0L0.0,299.0Z\\\" fill=\\\"null\\\"/>\\n     </g>\\n     <g transform=\\\"translate(20,5)\\\">\\n          <path d=\\\"M0.0,298.98688744999527L12.244897959183673,298.686482737161L24.489795918367346,298.82777168734174L36.73469387755102,298.76240607502405L48.97959183673469,298.60515431230306L61.224489795918366,298.441625424879L73.46938775510203,298.2236578123993L85.71428571428571,298.02345259979484L97.95918367346938,297.8215008877887L110.20408163265307,297.37299132486805L122.44897959183673,297.0380980498012L134.69387755102042,296.64833920016827L146.93877551020407,296.43587352495524L159.18367346938777,296.1660011626227L171.42857142857142,295.665973600102L183.67346938775512,295.1859121500311L195.91836734693877,294.67859406233765L208.16326530612244,294.24049488718447L220.40816326530614,293.70594333761255L232.6530612244898,292.969958512389L244.89795918367346,292.4512488249311L257.1428571428571,292.01139563722245L269.38775510204084,291.24428633751813L281.6326530612245,290.6717389874975L293.87755102040813,289.5877245000738L306.12244897959187,288.76045227500435L318.36734693877554,288.12832647511095L330.61224489795916,287.16925362516486L342.85714285714283,286.61813571254606L355.1020408163265,285.7387366499315L367.34693877551024,284.5299284499779L379.5918367346939,284.0891955251427L391.83673469387753,282.8551420500153L404.0816326530612,281.7573407252203L416.3265306122449,280.56960938758857L428.57142857142856,279.78065126246656L440.8163265306123,278.75288767520397L453.0612244897959,277.0526683625794L465.3061224489796,275.93395088754187L477.55102040816325,275.09537558746524L489.7959183673469,274.1093056122045L502.04081632653066,272.06715928752965L514.2857142857142,271.20123671249894L526.530612244898,270.0378860872879L538.7755102040817,268.51008147516404L551.0204081632653,266.5947531373822L563.265306122449,265.9969993625273L575.5102040816327,263.97890886239475L587.7551020408163,263.68271372505114L600.0,261.8932216000976\\\" fill=\\\"none\\\" stroke=\\\"rgb(1,7,210)\\\" stroke-dasharray=\\\"\\\" stroke-width=\\\"3\\\"/>\\n     </g>\\n     <g transform=\\\"translate(20,5)\\\">\\n          <text pointer-events=\\\"none\\\" x=\\\"3\\\" y=\\\"-3\\\" transform=\\\"translate(477.55102040816325,262.8932216000976)\\\" fill=\\\"rgb(1,7,210)\\\" style=\\\"font:14px arial\\\">insertion sort</text>\\n     </g>\\n     <g transform=\\\"translate(20,5)\\\">\\n          <text pointer-events=\\\"none\\\" x=\\\"3\\\" y=\\\"-3\\\" transform=\\\"translate(477.55102040816325,262.8932216000976)\\\" fill=\\\"rgb(1,7,210)\\\" style=\\\"font:14px arial\\\">insertion sort</text>\\n     </g>\\n     <g transform=\\\"translate(20,5)\\\">\\n          <path d=\\\"M0.0,298.979741212519L12.244897959183673,298.9497269622225L24.489795918367346,298.8459941252804L36.73469387755102,298.85097230019164L48.97959183673469,298.8687408751721L61.224489795918366,298.87102921259066L73.46938775510203,298.80156480014557L85.71428571428571,298.82586927508237L97.95918367346938,298.80686714989133L110.20408163265307,298.72222157521173L122.44897959183673,298.7053697003139L134.69387755102042,298.7492023750965L146.93877551020407,298.7208166500059L159.18367346938777,298.69976553766173L171.42857142857142,298.6593930249219L183.67346938775512,298.62818149979284L195.91836734693877,298.6201636749902L208.16326530612244,298.5773437876778L220.40816326530614,298.5268461374508L232.6530612244898,298.51559435030504L244.89795918367346,298.4970164625556L257.1428571428571,298.4670324125764L269.38775510204084,298.4314684499841L281.6326530612245,298.46161497500725L293.87755102040813,298.4133034375409L306.12244897959187,298.40002523762814L318.36734693877554,298.3379872001242L330.61224489795916,298.3164673996944L342.85714285714283,298.310227274691L355.1020408163265,298.2626141374785L367.34693877551024,298.2111859122815L379.5918367346939,298.2423179501202L391.83673469387753,297.6598965628218L404.0816326530612,298.01944084995193L416.3265306122449,298.16731306257134L428.57142857142856,298.17310018754506L440.8163265306123,297.98882391244115L453.0612244897959,297.85201569995843L465.3061224489796,298.05762047528697L477.55102040816325,297.9986707125354L489.7959183673469,298.0030215623847L502.04081632653066,297.98347827511316L514.2857142857142,297.73705118770886L526.530612244898,297.92261941276956L538.7755102040817,297.8304573496862L551.0204081632653,297.88091298744257L563.265306122449,297.8776506874274L575.5102040816327,297.5183778251667L587.7551020408163,297.71971499997017L600.0,297.72767543747614L600.0,299.0L587.7551020408163,299.0L575.5102040816327,299.0L563.265306122449,299.0L551.0204081632653,299.0L538.7755102040817,299.0L526.530612244898,299.0L514.2857142857142,299.0L502.04081632653066,299.0L489.7959183673469,299.0L477.55102040816325,299.0L465.3061224489796,299.0L453.0612244897959,299.0L440.8163265306123,299.0L428.57142857142856,299.0L416.3265306122449,299.0L404.0816326530612,299.0L391.83673469387753,299.0L379.5918367346939,299.0L367.34693877551024,299.0L355.1020408163265,299.0L342.85714285714283,299.0L330.61224489795916,299.0L318.36734693877554,299.0L306.12244897959187,299.0L293.87755102040813,299.0L281.6326530612245,299.0L269.38775510204084,299.0L257.1428571428571,299.0L244.89795918367346,299.0L232.6530612244898,299.0L220.40816326530614,299.0L208.16326530612244,299.0L195.91836734693877,299.0L183.67346938775512,299.0L171.42857142857142,299.0L159.18367346938777,299.0L146.93877551020407,299.0L134.69387755102042,299.0L122.44897959183673,299.0L110.20408163265307,299.0L97.95918367346938,299.0L85.71428571428571,299.0L73.46938775510203,299.0L61.224489795918366,299.0L48.97959183673469,299.0L36.73469387755102,299.0L24.489795918367346,299.0L12.244897959183673,299.0L0.0,299.0Z\\\" fill=\\\"null\\\"/>\\n     </g>\\n     <g transform=\\\"translate(20,5)\\\">\\n          <path d=\\\"M0.0,298.979741212519L12.244897959183673,298.9497269622225L24.489795918367346,298.8459941252804L36.73469387755102,298.85097230019164L48.97959183673469,298.8687408751721L61.224489795918366,298.87102921259066L73.46938775510203,298.80156480014557L85.71428571428571,298.82586927508237L97.95918367346938,298.80686714989133L110.20408163265307,298.72222157521173L122.44897959183673,298.7053697003139L134.69387755102042,298.7492023750965L146.93877551020407,298.7208166500059L159.18367346938777,298.69976553766173L171.42857142857142,298.6593930249219L183.67346938775512,298.62818149979284L195.91836734693877,298.6201636749902L208.16326530612244,298.5773437876778L220.40816326530614,298.5268461374508L232.6530612244898,298.51559435030504L244.89795918367346,298.4970164625556L257.1428571428571,298.4670324125764L269.38775510204084,298.4314684499841L281.6326530612245,298.46161497500725L293.87755102040813,298.4133034375409L306.12244897959187,298.40002523762814L318.36734693877554,298.3379872001242L330.61224489795916,298.3164673996944L342.85714285714283,298.310227274691L355.1020408163265,298.2626141374785L367.34693877551024,298.2111859122815L379.5918367346939,298.2423179501202L391.83673469387753,297.6598965628218L404.0816326530612,298.01944084995193L416.3265306122449,298.16731306257134L428.57142857142856,298.17310018754506L440.8163265306123,297.98882391244115L453.0612244897959,297.85201569995843L465.3061224489796,298.05762047528697L477.55102040816325,297.9986707125354L489.7959183673469,298.0030215623847L502.04081632653066,297.98347827511316L514.2857142857142,297.73705118770886L526.530612244898,297.92261941276956L538.7755102040817,297.8304573496862L551.0204081632653,297.88091298744257L563.265306122449,297.8776506874274L575.5102040816327,297.5183778251667L587.7551020408163,297.71971499997017L600.0,297.72767543747614\\\" fill=\\\"none\\\" stroke=\\\"rgb(112,0,197)\\\" stroke-dasharray=\\\"\\\" stroke-width=\\\"3\\\"/>\\n     </g>\\n     <g transform=\\\"translate(20,5)\\\">\\n          <text pointer-events=\\\"none\\\" x=\\\"3\\\" y=\\\"-3\\\" transform=\\\"translate(477.55102040816325,298.72767543747614)\\\" fill=\\\"rgb(112,0,197)\\\" style=\\\"font:14px arial\\\">merge sort</text>\\n     </g>\\n     <g transform=\\\"translate(20,5)\\\">\\n          <text pointer-events=\\\"none\\\" x=\\\"3\\\" y=\\\"-3\\\" transform=\\\"translate(477.55102040816325,298.72767543747614)\\\" fill=\\\"rgb(112,0,197)\\\" style=\\\"font:14px arial\\\">merge sort</text>\\n     </g>\\n     <g transform=\\\"translate(20,5)\\\">\\n          <text pointer-events=\\\"none\\\" y=\\\"-3\\\" transform=\\\"translate(300.0,22)\\\" fill=\\\"rgb(0,0,0)\\\" text-anchor=\\\"middle\\\" style=\\\"font:16px sans-serif\\\">Sort Speed vs Array Length</text>\\n     </g>\\n</svg>\""
      ]
     },
     "metadata": {},
     "output_type": "display_data"
    }
   ],
   "source": [
    "require 'rubyvis'\n",
    "\n",
    "# results = results_i\n",
    "\n",
    "w = 600\n",
    "h = 300\n",
    "x = pv.Scale.linear(results, lambda {|d| d.x}).range(0, w)\n",
    "\n",
    "y = pv.Scale.linear(0, 24).range(0, h);\n",
    "\n",
    "#The root panel\n",
    "vis = pv.Panel.new() do\n",
    "  width w\n",
    "  height h\n",
    "  bottom 20\n",
    "  left 20\n",
    "  right 10\n",
    "  top 5\n",
    "\n",
    "# Y-axis and ticks\n",
    "  rule do\n",
    "    data y.ticks(10)\n",
    "    bottom(y)\n",
    "    stroke_style {|d| d!=0 ? \"#eee\" : \"#000\"}\n",
    "    label(:anchor=>\"left\") {\n",
    "      text y.tick_format\n",
    "    }\n",
    "  end\n",
    "  \n",
    "# X-axis and ticks.\n",
    "  rule do\n",
    "    data x.ticks()\n",
    "    visible {|d| d!=0}\n",
    "    left(x)\n",
    "    bottom(-5)\n",
    "    height(5)\n",
    "    label(:anchor=>'bottom') {\n",
    "      text(x.tick_format)\n",
    "    }\n",
    "  end\n",
    "\n",
    "#/* The area with top line. */\n",
    "  area do |a|\n",
    "    a.data results_b\n",
    "    a.bottom(1)\n",
    "    a.left {|d| x.scale(d.x)}\n",
    "    a.height {|d| y.scale(d.y)}\n",
    "    a.fill_style(\"null\")\n",
    "    a.line(:anchor=>'top') {\n",
    "      line_width(3)\n",
    "      stroke_style(\"rgb(1,110,210)\")\n",
    "    }\n",
    "  end\n",
    "  \n",
    "  label do |l|\n",
    "    # Convert last value to hash\n",
    "    lastVal = results_b.last.to_h\n",
    "    l.add(pv.Label)\n",
    "    l.left(x.scale(8_000))\n",
    "    l.bottom(y.scale(lastVal[:y]))\n",
    "    l.anchor(\"right\")\n",
    "    l.text(\"bubble sort\")\n",
    "    l.font(\"14px arial\")\n",
    "    l.text_style(\"rgb(1,110,210)\")\n",
    "  end \n",
    "  \n",
    "  area do |a|\n",
    "    a.data results_i\n",
    "    a.bottom(1)\n",
    "    a.left {|d| x.scale(d.x)}\n",
    "    a.height {|d| y.scale(d.y)}\n",
    "    a.fill_style(\"null\")\n",
    "    a.line(:anchor=>'top') {\n",
    "      line_width(3)\n",
    "      stroke_style(\"rgb(1,7,210)\")\n",
    "    }\n",
    "  end\n",
    "  \n",
    "  label do |l|\n",
    "    # Convert last value to hash\n",
    "    lastVal = results_i.last.to_h\n",
    "    l.add(pv.Label)\n",
    "    l.left(x.scale(8_000))\n",
    "    l.bottom(y.scale(lastVal[:y]))\n",
    "    l.anchor(\"right\")\n",
    "    l.text(\"insertion sort\")\n",
    "    l.font(\"14px arial\")\n",
    "    l.text_style(\"rgb(1,7,210)\")\n",
    "  end \n",
    "  \n",
    "  area do |a|\n",
    "    a.data results_m\n",
    "    a.bottom(1)\n",
    "    a.left {|d| x.scale(d.x)}\n",
    "    a.height {|d| y.scale(d.y)}\n",
    "    a.fill_style(\"null\")\n",
    "    a.line(:anchor=>'top') {\n",
    "      line_width(3)\n",
    "      stroke_style(\"rgb(112, 0, 197)\")\n",
    "    }\n",
    "  end\n",
    "\n",
    "  label do |l|\n",
    "    # Convert last value to hash\n",
    "    lastVal = results_m.last.to_h\n",
    "    l.add(pv.Label)\n",
    "    l.left(x.scale(8_000))\n",
    "    l.bottom(y.scale(lastVal[:y]))\n",
    "    l.anchor(\"right\")\n",
    "    l.text(\"merge sort\")\n",
    "    l.font(\"14px arial\")\n",
    "    l.text_style(\"rgb(112,0,197)\")\n",
    "  end \n",
    "  \n",
    "  #/* The title and labels. */\n",
    "  label do\n",
    "    top(22)\n",
    "    textAlign (\"center\")\n",
    "    text (\"Sort Speed vs Array Length\")\n",
    "    font (\"16px sans-serif\")\n",
    "  end\n",
    "end\n",
    "\n",
    "vis.render()\n",
    "svg_image = vis.to_svg # Output final SVG\n",
    "IRuby.display svg_image, mime:'text/html'"
   ]
  }
 ],
 "metadata": {
  "kernelspec": {
   "display_name": "Ruby 2.3.0",
   "language": "ruby",
   "name": "ruby"
  },
  "language_info": {
   "file_extension": ".rb",
   "mimetype": "application/x-ruby",
   "name": "ruby",
   "version": "2.3.0"
  }
 },
 "nbformat": 4,
 "nbformat_minor": 0
}
